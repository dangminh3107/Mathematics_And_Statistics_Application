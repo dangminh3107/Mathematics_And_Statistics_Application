{
 "cells": [
  {
   "cell_type": "code",
   "execution_count": null,
   "metadata": {},
   "outputs": [],
   "source": []
  },
  {
   "cell_type": "code",
   "execution_count": 5,
   "metadata": {},
   "outputs": [
    {
     "name": "stdout",
     "output_type": "stream",
     "text": [
      "B:\n",
      "[[ 5.96817250e-01]\n",
      " [ 4.78214785e-01]\n",
      " [ 5.56672058e-04]\n",
      " [ 9.03806884e-05]\n",
      " [ 5.64581368e-02]\n",
      " [ 1.58222341e-02]\n",
      " [ 7.50929264e-03]\n",
      " [-8.05404850e-02]\n",
      " [ 2.03436601e-01]\n",
      " [ 1.49196176e-02]]\n",
      "Test:\n",
      "prediction = 3.2249145780589474 actual = 3.68\n",
      "prediction = 3.2214274565651326 actual = 3.67\n",
      "prediction = 2.643611464623139 actual = 2.52\n",
      "prediction = 3.179361016319145 actual = 3.33\n",
      "prediction = 3.271678179380128 actual = 3.31\n",
      "prediction = 3.255276040306404 actual = 3.13\n",
      "prediction = 3.1081370685122067 actual = 2.88\n",
      "prediction = 2.972548187099255 actual = 2.65\n",
      "prediction = 2.9426712477414605 actual = 2.97\n",
      "prediction = 2.800260391472886 actual = 2.62\n"
     ]
    }
   ],
   "source": [
    "import csv\n",
    "import numpy as np\n",
    "def readData():\n",
    "    X = []\n",
    "    y = []\n",
    "    with open('FirstYearGPA.csv') as f:\n",
    "        r = csv.reader(f)\n",
    "        # Skip header\n",
    "        next(r)\n",
    "        # Đọc X, y\n",
    "        for line in r:\n",
    "            xline = [1.0]\n",
    "            # Đọc từ 2 trở về sau bỏ cột đầu là thứ tự và cột tiếp theo là y (GPA)\n",
    "            for s in line[2:]:\n",
    "                xline.append(float(s))\n",
    "            X.append(xline)\n",
    "            # Đọc y vào là cột\n",
    "            y.append(float(line[1]))\n",
    "    return (X,y)\n",
    "X0,y0 = readData()\n",
    "# Chuyển đổi tất cả trong data sang mảng numpy,\n",
    "# Ngoại trừ 10 dòng cuối cùng để test\n",
    "d = len(X0)-10\n",
    "\n",
    "X = np.array(X0[:d])\n",
    "y1 = np.array([y0[:d]])\n",
    "\n",
    "y = np.transpose(np.array([y0[:d]]))\n",
    "\n",
    "\n",
    "\n",
    "# Giải Beta\n",
    "Xt = np.transpose(X)\n",
    "XtX = np.dot(Xt,X) # X.T*X\n",
    "Xty = np.dot(Xt,y) # X.T*y\n",
    "beta = np.linalg.solve(XtX,Xty) ## Solve (X.T*X)Beta = X.T*y)\n",
    "print(\"B:\")\n",
    "print(beta)\n",
    "\n",
    "# Thử đưa dự đoán cho 10 hàng cuối trong data\n",
    "print(\"Test:\")\n",
    "for data,actual in zip(X0[d:],y0[d:]):\n",
    "    x = np.array([data])\n",
    "    prediction = np.dot(x,beta)\n",
    "    print('prediction = '+str(prediction[0,0])+' actual = '+str(actual))"
   ]
  },
  {
   "cell_type": "code",
   "execution_count": 10,
   "metadata": {},
   "outputs": [
    {
     "name": "stdout",
     "output_type": "stream",
     "text": [
      "R_Square:  0.6027183766972313\n",
      "Adjusted R_Square:  0.5868271117651205\n"
     ]
    }
   ],
   "source": [
    "k = 9 # số cột của data\n",
    "n = d # số hàng\n",
    "mean = np.sum(y1)/n # tính mean\n",
    "e = [] #rss sai số (chưa được giải thích bởi mô hình)\n",
    "yy = [] # ess (dao động được giải thích bởi mô hình)\n",
    "tss = []\n",
    "# Tính các tổng các giao động\n",
    "for data,actual in zip(X0[:n],y0[:n]):\n",
    "    x = np.array([data])\n",
    "    prediction = np.dot(x,beta)\n",
    "    e.append((actual-(prediction[0][0]))**2)\n",
    "    yy.append((prediction[0][0] - mean)**2)\n",
    "    tss.append((actual - mean)**2)\n",
    "ESS = np.sum(yy)\n",
    "RSS = np.sum(e)\n",
    "TSS = np.sum(tss)\n",
    "R_Square = 1 - RSS/TSS\n",
    "Adjusted_R_Square = 1 - (n-1)/(n-k)*(1 - R_Square)\n",
    "print(\"R_Square: \",R_Square)\n",
    "print(\"Adjusted R_Square: \", Adjusted_R_Square)\n"
   ]
  },
  {
   "cell_type": "code",
   "execution_count": null,
   "metadata": {},
   "outputs": [],
   "source": []
  }
 ],
 "metadata": {
  "kernelspec": {
   "display_name": "Python 3",
   "language": "python",
   "name": "python3"
  },
  "language_info": {
   "codemirror_mode": {
    "name": "ipython",
    "version": 3
   },
   "file_extension": ".py",
   "mimetype": "text/x-python",
   "name": "python",
   "nbconvert_exporter": "python",
   "pygments_lexer": "ipython3",
   "version": "3.7.4"
  }
 },
 "nbformat": 4,
 "nbformat_minor": 4
}

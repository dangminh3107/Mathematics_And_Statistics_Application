{
 "cells": [
  {
   "cell_type": "code",
   "execution_count": 188,
   "metadata": {},
   "outputs": [],
   "source": [
    "from scipy.stats import binom\n",
    "from scipy.stats import poisson\n",
    "from scipy.stats import uniform\n",
    "from scipy.stats import bernoulli\n",
    "\n",
    "import matplotlib.pyplot as plt\n",
    "\n",
    "import numpy as np\n",
    "\n",
    "def mean(arr):\n",
    "    return sum(arr)/len(arr)\n",
    "\n",
    "def max_count(arr):\n",
    "    count_max = 0;\n",
    "    position_max = 0;\n",
    "    for i in range(max(arr)):\n",
    "        count = 0\n",
    "        for j in arr:\n",
    "            if i == j: count+=1\n",
    "        if count > count_max:\n",
    "            count_max = count\n",
    "            position_max = i\n",
    "    return [count_max, position_max]"
   ]
  },
  {
   "cell_type": "code",
   "execution_count": 148,
   "metadata": {},
   "outputs": [
    {
     "name": "stdout",
     "output_type": "stream",
     "text": [
      "3.544\n"
     ]
    }
   ],
   "source": [
    "#1.1\n",
    "\n",
    "def simulator11(n):\n",
    "    return np.random.choice([1,2,3,4,5,6],size = n)\n",
    "\n",
    "n11 = 1000\n",
    "print(mean(simulator11(n11)))"
   ]
  },
  {
   "cell_type": "code",
   "execution_count": 131,
   "metadata": {},
   "outputs": [
    {
     "name": "stdout",
     "output_type": "stream",
     "text": [
      "5\n"
     ]
    },
    {
     "data": {
      "text/plain": [
       "[65, 4]"
      ]
     },
     "execution_count": 131,
     "metadata": {},
     "output_type": "execute_result"
    }
   ],
   "source": [
    "#1.2\n",
    "\n",
    "ngay = 365\n",
    "def simulator12(lamda, n):\n",
    "    return poisson.rvs(lamda, size = n)\n",
    "\n",
    "\n",
    "#a)\n",
    "data = sorted(simulator12(5, ngay))\n",
    "print(data[round(len(data)/2)])\n",
    "\n",
    "#b)\n",
    "max_count(data)"
   ]
  },
  {
   "cell_type": "code",
   "execution_count": 123,
   "metadata": {},
   "outputs": [
    {
     "name": "stdout",
     "output_type": "stream",
     "text": [
      "Ly thuyet, ki vong bang:  0.5\n",
      "0.4940239838069518\n"
     ]
    },
    {
     "data": {
      "text/plain": [
       "0.45"
      ]
     },
     "execution_count": 123,
     "metadata": {},
     "output_type": "execute_result"
    }
   ],
   "source": [
    "#1.3\n",
    "\n",
    "def simulator13(n):\n",
    "    return uniform.rvs(0, 1, size = n)\n",
    "\n",
    "n = 10000\n",
    "\n",
    "#li thuyet:\n",
    "# Gia tri ki vong bang 1/2(a+b) = (0 + 1)/2\n",
    "print(\"Ly thuyet, ki vong bang: \", 1/2)\n",
    "\n",
    "#a)\n",
    "print(mean(simulator13(n)))\n",
    "\n",
    "#b)\n",
    "# Ham mat do xac suat: f(x) = 1\n",
    "# ki vong ham mat do xac suat bang tich phan di tu 0 den 1 cua x.d(x)\n",
    "\n",
    "def f_13(x):\n",
    "    return x\n",
    "\n",
    "# reimann trai\n",
    "def kyvong_tong_riemann(f, n, a, b):\n",
    "    return sum(f(i/n/(b - a)) for i in range(n))/n\n",
    "\n",
    "kyvong_tong_riemann(f_13, 10, 0, 1)\n"
   ]
  },
  {
   "cell_type": "code",
   "execution_count": 214,
   "metadata": {},
   "outputs": [
    {
     "name": "stdout",
     "output_type": "stream",
     "text": [
      "Phan vi thu nhat:  2\n",
      "Trung vi:  3\n",
      "Phan vi thu ba:  5\n",
      "Phan vi thu nhat \\(test 2\\):  2\n",
      "Trung vi \\(test 2\\):  4\n",
      "Phan vi thu ba \\(test 2\\):  5\n"
     ]
    },
    {
     "data": {
      "image/png": "[encoded data removed]",
      "text/plain": [
       "<Figure size 432x288 with 1 Axes>"
      ]
     },
     "metadata": {
      "needs_background": "light"
     },
     "output_type": "display_data"
    }
   ],
   "source": [
    "# 2.1\n",
    "# su dung simulator 1.1\n",
    "\n",
    "n21 = 100\n",
    "data = sorted(simulator11(n21))\n",
    "data2 = sorted(simulator11(n21))\n",
    "\n",
    "#a)\n",
    "print(\"Phan vi thu nhat: \", data[round(len(data)/4)])\n",
    "print(\"Trung vi: \", data[round(len(data)/2)])\n",
    "print(\"Phan vi thu ba: \", data[round(3*len(data)/4)])\n",
    "\n",
    "print(\"Phan vi thu nhat \\(test 2\\): \", data2[round(len(data)/4)])\n",
    "print(\"Trung vi \\(test 2\\): \", data2[round(len(data)/2)])\n",
    "print(\"Phan vi thu ba \\(test 2\\): \", data2[round(3*len(data)/4)])\n",
    "\n",
    "plt.boxplot([data, data2], vert = True, patch_artist = True)\n",
    "plt.show()"
   ]
  },
  {
   "cell_type": "code",
   "execution_count": null,
   "metadata": {},
   "outputs": [],
   "source": []
  }
 ],
 "metadata": {
  "kernelspec": {
   "display_name": "Python 3",
   "language": "python",
   "name": "python3"
  },
  "language_info": {
   "codemirror_mode": {
    "name": "ipython",
    "version": 3
   },
   "file_extension": ".py",
   "mimetype": "text/x-python",
   "name": "python",
   "nbconvert_exporter": "python",
   "pygments_lexer": "ipython3",
   "version": "3.7.4"
  }
 },
 "nbformat": 4,
 "nbformat_minor": 4
}

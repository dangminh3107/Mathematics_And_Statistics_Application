{
 "cells": [
  {
   "cell_type": "markdown",
   "metadata": {},
   "source": [
    "### 1.1"
   ]
  },
  {
   "cell_type": "code",
   "execution_count": 1,
   "metadata": {},
   "outputs": [],
   "source": [
    "import random as rd"
   ]
  },
  {
   "cell_type": "code",
   "execution_count": 4,
   "metadata": {},
   "outputs": [
    {
     "name": "stdout",
     "output_type": "stream",
     "text": [
      "350061 3.50061\n"
     ]
    }
   ],
   "source": [
    "dice = [1, 2, 3, 4, 5, 6]\n",
    "def roll(n):\n",
    "    sum = 0\n",
    "    for i in range(n):\n",
    "        sum += rd.choice(dice)\n",
    "    return sum, sum/n\n",
    "\n",
    "n = 100000\n",
    "s, e = roll(n)\n",
    "print(s,e)"
   ]
  },
  {
   "cell_type": "markdown",
   "metadata": {},
   "source": [
    "### 1.2"
   ]
  },
  {
   "cell_type": "code",
   "execution_count": 18,
   "metadata": {},
   "outputs": [],
   "source": [
    "from scipy.stats import poisson\n",
    "from collections import Counter\n",
    "import statistics as st"
   ]
  },
  {
   "cell_type": "code",
   "execution_count": 32,
   "metadata": {},
   "outputs": [
    {
     "name": "stdout",
     "output_type": "stream",
     "text": [
      "5\n",
      "5\n",
      "Counter({4: 64, 6: 62, 3: 55, 5: 52, 7: 36, 2: 26, 8: 25, 9: 15, 1: 14, 10: 7, 11: 5, 12: 3, 15: 1})\n",
      "4 64\n"
     ]
    }
   ],
   "source": [
    "day = 365\n",
    "def simulator(lamda, n):\n",
    "    return poisson.rvs(lamda, size = n)\n",
    "\n",
    "#a)\n",
    "#thu vien\n",
    "print(st.median(simulator(5,day)))\n",
    "#mo phong\n",
    "data = sorted(simulator(5,day))\n",
    "print(data[round(len(data)/2)])\n",
    "\n",
    "#b)\n",
    "count = Counter(simulator(5,day))\n",
    "print(count)\n",
    "key_max = max(count, key = lambda k: count[k])\n",
    "print(key_max, count[key_max])"
   ]
  },
  {
   "cell_type": "markdown",
   "metadata": {},
   "source": [
    "### 1.3"
   ]
  },
  {
   "cell_type": "code",
   "execution_count": 33,
   "metadata": {},
   "outputs": [],
   "source": [
    "from scipy.stats import uniform"
   ]
  },
  {
   "cell_type": "code",
   "execution_count": 36,
   "metadata": {},
   "outputs": [
    {
     "name": "stdout",
     "output_type": "stream",
     "text": [
      "0.4818201227764661\n"
     ]
    }
   ],
   "source": [
    "# a)\n",
    "n = 1000\n",
    "randomvalues = uniform.rvs(loc = 0, scale = 1, size = n)\n",
    "print(sum(randomvalues)/n)"
   ]
  },
  {
   "cell_type": "markdown",
   "metadata": {},
   "source": [
    "### 2.1"
   ]
  },
  {
   "cell_type": "code",
   "execution_count": 37,
   "metadata": {},
   "outputs": [],
   "source": [
    "#a)\n",
    "\n",
    "a = np.random.choice()\n",
    "np.quantile(a,[.25,.5,.75])\n"
   ]
  },
  {
   "cell_type": "markdown",
   "metadata": {},
   "source": [
    "### BTTH 3 1.1"
   ]
  },
  {
   "cell_type": "code",
   "execution_count": 54,
   "metadata": {},
   "outputs": [],
   "source": [
    "from scipy.stats import binom\n",
    "import numpy as np"
   ]
  },
  {
   "cell_type": "code",
   "execution_count": 55,
   "metadata": {},
   "outputs": [
    {
     "data": {
      "text/plain": [
       "array([0.00673795, 0.03368973, 0.08422434, 0.1403739 , 0.17546737,\n",
       "       0.17546737, 0.14622281, 0.10444486, 0.06527804, 0.03626558,\n",
       "       0.01813279])"
      ]
     },
     "execution_count": 55,
     "metadata": {},
     "output_type": "execute_result"
    }
   ],
   "source": [
    "lamb = 5\n",
    "poisson.pmf(range(11),lamb)"
   ]
  },
  {
   "cell_type": "code",
   "execution_count": 56,
   "metadata": {},
   "outputs": [
    {
     "data": {
      "text/plain": [
       "[0.0055,\n",
       " 0.0341,\n",
       " 0.0892,\n",
       " 0.1389,\n",
       " 0.1775,\n",
       " 0.1736,\n",
       " 0.1468,\n",
       " 0.1063,\n",
       " 0.0624,\n",
       " 0.0347,\n",
       " 0.019]"
      ]
     },
     "execution_count": 56,
     "metadata": {},
     "output_type": "execute_result"
    }
   ],
   "source": [
    "def simulation():\n",
    "    a = [sum(list(np.random.choice([1,0],p=[5/10000,1-5/10000],size=10000))) for _ in range(10000)]\n",
    "   #a = binom.rvs(n=1000,p=5/1000,size=10000)\n",
    "    return [list(a).count(i)/10000 for i in range(11)]\n",
    "simulation()"
   ]
  },
  {
   "cell_type": "code",
   "execution_count": null,
   "metadata": {},
   "outputs": [],
   "source": []
  }
 ],
 "metadata": {
  "kernelspec": {
   "display_name": "Python 3",
   "language": "python",
   "name": "python3"
  },
  "language_info": {
   "codemirror_mode": {
    "name": "ipython",
    "version": 3
   },
   "file_extension": ".py",
   "mimetype": "text/x-python",
   "name": "python",
   "nbconvert_exporter": "python",
   "pygments_lexer": "ipython3",
   "version": "3.7.4"
  }
 },
 "nbformat": 4,
 "nbformat_minor": 4
}

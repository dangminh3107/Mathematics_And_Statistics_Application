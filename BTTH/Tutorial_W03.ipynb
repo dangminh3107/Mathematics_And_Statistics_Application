{
 "cells": [
  {
   "cell_type": "markdown",
   "metadata": {},
   "source": [
    "### MTH00051 -- TUTORIAL 03 \n",
    "## CÁC ĐẠI LƯỢNG TRONG XÁC SUẤT"
   ]
  },
  {
   "cell_type": "markdown",
   "metadata": {},
   "source": [
    "### 1. Kì vọng\n",
    "\n",
    "Kì vọng hay trung bình (expectation, mean, average) là giá trị \"trung tâm\", đại diện cho các giá trị mà một biến ngẫu nhiên có thể nhận. \n",
    "\n",
    "Kì vọng của biến ngẫu nhiên $X$ được tính theo công thức:\n",
    "$ E(X) = \\begin{cases}\n",
    "\\sum xP(X= x) & (1) \\\\\n",
    "\\int xf(x)dx & (2)\n",
    "\\end{cases} $\n",
    "   * (1) $X$ là b.n.n rời rạc có hàm xác suất $P(X=x)$, hoặc\n",
    "   * (2) $X$ là là b.n.n liên tục có hàm mật độ xác suất $f(x)$\n",
    "\n",
    "\n",
    "Để tính gần đúng kì vọng của một b.n.n $X$ liên quan đến thí nghiệm $T$, ta có thể dùng phương pháp thống kê như sau:\n",
    " * thực hiện lặp lại $N$ lần (độc lập) thí nghiệm $T$\n",
    " * ghi nhận các giá trị mà $X$ nhận $x_1,x_2,…,x_N$ (còn gọi là mẫu dữ liệu – sample)\n",
    " * tính trung bình mẫu (sample mean) $\\bar{x}$ của bộ dữ liệu này\n",
    " \n",
    "Khi $N$ đủ lớn, ta có $\\bar{x} \\sim E(X)$"
   ]
  },
  {
   "cell_type": "code",
   "execution_count": 1,
   "metadata": {},
   "outputs": [],
   "source": [
    "# Biến n.n rời rạc\n",
    "# Bốc ngẫu nhiên 5 viên bi trong hộp gồm 4 bi Đỏ và 6 bi Đen. \n",
    "# Gọi $X$ là số bi đỏ bốc được, tìm kì vọng của $X$ trong các trường hợp:\n",
    "# (a) Bốc có hoàn lại, (b) Bốc không hoàn lại"
   ]
  },
  {
   "cell_type": "code",
   "execution_count": 20,
   "metadata": {},
   "outputs": [
    {
     "name": "stdout",
     "output_type": "stream",
     "text": [
      "2.0\n",
      "1.9872\n"
     ]
    }
   ],
   "source": [
    "# (a) Bốc có hoàn lại\n",
    "\n",
    "p = 4/(4+6) # Xác suất bốc được bi Đỏ trong hộp gồm 4 bi Đỏ và 6 bi Đen\n",
    "n = 5\n",
    "E_X = n*p # n = 5 => X ~ Binomial(n,p) = Binomial(5,0.4)\n",
    "print(E_X)\n",
    "\n",
    "# Mô phỏng\n",
    "import numpy as np\n",
    "def expectation(N):\n",
    "    box = ['R']*4 + ['B']*6\n",
    "    result = []\n",
    "    for i in range(N):\n",
    "        samples = np.random.choice(box, size = 5, replace = True)\n",
    "        result.append(sum(samples == 'R'))\n",
    "    return np.mean(result)\n",
    "\n",
    "print(expectation(10000))"
   ]
  },
  {
   "cell_type": "code",
   "execution_count": 22,
   "metadata": {},
   "outputs": [
    {
     "data": {
      "text/plain": [
       "2.0"
      ]
     },
     "execution_count": 22,
     "metadata": {},
     "output_type": "execute_result"
    }
   ],
   "source": [
    "# Dùng thư viện scipy\n",
    "# https://docs.scipy.org/doc/scipy/reference/generated/scipy.stats.binom.html\n",
    "from scipy.stats import binom\n",
    "p = 4/(4+6)\n",
    "n = 5\n",
    "binom.mean(n = n, p = p)"
   ]
  },
  {
   "cell_type": "code",
   "execution_count": 23,
   "metadata": {},
   "outputs": [
    {
     "name": "stdout",
     "output_type": "stream",
     "text": [
      "2.0\n",
      "1.9983\n"
     ]
    }
   ],
   "source": [
    "# (b) Bốc không hoàn lại\n",
    "n, k, N = 5, 4, 4+6\n",
    "E_X = (n * k) / N # X ~ Hypergeometric(N, n, k)\n",
    "print(E_X)\n",
    "\n",
    "# Mô phỏng\n",
    "import numpy as np\n",
    "def expectation(N):\n",
    "    box = ['R']*4 + ['B']*6\n",
    "    result = []\n",
    "    for i in range(N):\n",
    "        samples = np.random.choice(box, size = 5, replace = False)\n",
    "        result.append(sum(samples == 'R'))\n",
    "    return np.mean(result)\n",
    "\n",
    "print(expectation(10000))"
   ]
  },
  {
   "cell_type": "code",
   "execution_count": 27,
   "metadata": {},
   "outputs": [
    {
     "data": {
      "text/plain": [
       "2.0"
      ]
     },
     "execution_count": 27,
     "metadata": {},
     "output_type": "execute_result"
    }
   ],
   "source": [
    "# Dùng thư viện scipy\n",
    "# https://docs.scipy.org/doc/scipy/reference/generated/scipy.stats.hypergeom.html\n",
    "from scipy.stats import hypergeom\n",
    "M = 4+6\n",
    "n = 4\n",
    "N = 5\n",
    "hypergeom.mean(M = M, n = n, N = N)"
   ]
  },
  {
   "cell_type": "code",
   "execution_count": 64,
   "metadata": {},
   "outputs": [],
   "source": [
    "# Biến n.n liên tục\n",
    "# Chọn ngẫu nhiên một điểm trên một thanh có chiều dài 1 đơn vị, cắt tại điểm đó thành hai đoạn và giữ lại đoạn dài hơn. \n",
    "# Tính kì vọng của chiều dài đoạn giữ lại.\n"
   ]
  },
  {
   "cell_type": "markdown",
   "metadata": {},
   "source": [
    "Gọi $X$ là vị trí ngẫu nhiên chọn trên thanh thì $X \\sim Uniform(0,1)$. \n",
    "\n",
    "Do đó $X$ là b.n.n liên tục với hàm mật độ xác suất $ f_X(x) = \\begin{cases}\n",
    "1 & 0 \\leq x \\leq 1 \\\\\n",
    "0 & otherwise\n",
    "\\end{cases} $\n",
    "\n",
    "Gọi $Y$ là chiều dài của đoạn được giữ lại (tức là đoạn dài hơn) thì $Y = max\\{X, 1-X\\}$.\n",
    "\n",
    "Ta có $Y$ là biến ngẫu nhiên phát sinh từ biến ngẫu nhiên $X$ qua hàm số $ r(x) = max\\{x, 1-x\\}, 0 \\leq x \\leq 1 $\n",
    "\n",
    "Theo công thức tính kì vọng của biến ngẫu nhiên phái sinh liên tục\n",
    "$ E(Y)=E(r(X))=\\int_{-\\infty }^{\\infty} r(x)f_X(x)dx $\n",
    "\n",
    " Ta có: \n",
    "\\begin{align*}\n",
    "    E(Y) &= E(max\\{X, 1-X\\}) = \\int_{-\\infty}^{\\infty} max\\{x, 1-x\\}f_X(x)dx = \\int_{0}^{1} max\\{x, 1-x\\}dx \\\\\n",
    "    &= \\int_{0}^{1/2} (1-x)dx + \\int_{1/2}^{1}xdx = 3/4\n",
    "\\end{align*} "
   ]
  },
  {
   "cell_type": "markdown",
   "metadata": {},
   "source": [
    "Hoặc ta cũng có thể tìm phân phối của $Y$ rồi tính kì vọng theo công thức thông thường. \n",
    "\n",
    "Từ Tutorial\\_02 ta có $Y \\sim Uniform(1/2,1)$ với hàm mật độ xác suất là: $ f_Y(y) = \\begin{cases}\n",
    "2 & 1/2 \\leq y \\leq 1 \\\\\n",
    "0 & otherwise\n",
    "\\end{cases} $\n",
    "\n",
    "Từ đó ta tính được kì vọng của $Y$:\n",
    "\\begin{align*}\n",
    "    E(Y) =\\int_{-\\infty}^{\\infty} yf_Y(y)dy\n",
    "    = \\int_{1/2}^{1}2ydy = 3/4\n",
    "\\end{align*}"
   ]
  },
  {
   "cell_type": "code",
   "execution_count": 19,
   "metadata": {},
   "outputs": [
    {
     "name": "stdout",
     "output_type": "stream",
     "text": [
      "0.7485892402947643\n"
     ]
    }
   ],
   "source": [
    "# Mô phỏng\n",
    "N = 10000\n",
    "def expectation(N):\n",
    "    samples = np.random.uniform(low = 0.0, high = 1.0, size = N)\n",
    "    return np.mean([max(i, 1-i) for i in samples])\n",
    "print(expectation(N))"
   ]
  },
  {
   "cell_type": "markdown",
   "metadata": {},
   "source": [
    "### 2. Các đại lượng khác"
   ]
  },
  {
   "cell_type": "code",
   "execution_count": 47,
   "metadata": {},
   "outputs": [
    {
     "name": "stdout",
     "output_type": "stream",
     "text": [
      "2.0\n"
     ]
    },
    {
     "data": {
      "text/plain": [
       "2.0"
      ]
     },
     "execution_count": 47,
     "metadata": {},
     "output_type": "execute_result"
    }
   ],
   "source": [
    "# Trung vị (median)\n",
    "# (a) Ví dụ về Bốc có hoàn lại ở trên X ~ Binomial(n,p) = Binomial(5,0.4)\n",
    "\n",
    "import numpy as np\n",
    "import statistics as stats\n",
    "def median(N):\n",
    "    box = ['R']*4 + ['B']*6\n",
    "    result = []\n",
    "    for i in range(N):\n",
    "        samples = np.random.choice(box, size = 5, replace = True)\n",
    "        result.append(sum(samples == 'R'))\n",
    "    return stats.median(result)\n",
    "\n",
    "print(median(10000))\n",
    "\n",
    "from scipy.stats import binom\n",
    "p = 4/(4+6)\n",
    "n = 5\n",
    "binom.median(n = n, p = p)"
   ]
  },
  {
   "cell_type": "code",
   "execution_count": 60,
   "metadata": {},
   "outputs": [
    {
     "name": "stdout",
     "output_type": "stream",
     "text": [
      "2\n"
     ]
    }
   ],
   "source": [
    "# Mode\n",
    "# (a) Ví dụ về Bốc có hoàn lại ở trên X ~ Binomial(n,p) = Binomial(5,0.4)\n",
    "\n",
    "import numpy as np\n",
    "import statistics as stats\n",
    "def mode(N):\n",
    "    box = ['R']*4 + ['B']*6\n",
    "    result = []\n",
    "    for i in range(N):\n",
    "        samples = np.random.choice(box, size = 5, replace = True)\n",
    "        result.append(sum(samples == 'R'))\n",
    "    return stats.mode(result)\n",
    "\n",
    "print(mode(10000))"
   ]
  },
  {
   "cell_type": "code",
   "execution_count": 61,
   "metadata": {},
   "outputs": [
    {
     "data": {
      "text/plain": [
       "(1.2, 1.0954451150103321)"
      ]
     },
     "execution_count": 61,
     "metadata": {},
     "output_type": "execute_result"
    }
   ],
   "source": [
    "# Phương sai (var), Độ lệch chuẩn (std)\n",
    "# (a) Ví dụ về Bốc có hoàn lại ở trên X ~ Binomial(n,p) = Binomial(5,0.4)\n",
    "\n",
    "from scipy.stats import binom\n",
    "p = 4/(4+6)\n",
    "n = 5\n",
    "binom.var(n = n, p = p), binom.std(n = n, p = p)"
   ]
  }
 ],
 "metadata": {
  "kernelspec": {
   "display_name": "Python 3",
   "language": "python",
   "name": "python3"
  },
  "language_info": {
   "codemirror_mode": {
    "name": "ipython",
    "version": 3
   },
   "file_extension": ".py",
   "mimetype": "text/x-python",
   "name": "python",
   "nbconvert_exporter": "python",
   "pygments_lexer": "ipython3",
   "version": "3.7.4"
  }
 },
 "nbformat": 4,
 "nbformat_minor": 4
}

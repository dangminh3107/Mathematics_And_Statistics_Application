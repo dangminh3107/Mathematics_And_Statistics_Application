{
 "cells": [
  {
   "cell_type": "markdown",
   "metadata": {},
   "source": [
    "# BÀI TẬP THỰC HÀNH 2\n",
    "## Họ và tên: Đặng Hồng Minh\n",
    "### MSSV: 1712096"
   ]
  },
  {
   "cell_type": "code",
   "execution_count": 2,
   "metadata": {},
   "outputs": [],
   "source": [
    "import numpy as np"
   ]
  },
  {
   "cell_type": "markdown",
   "metadata": {},
   "source": [
    "#### Phần 1: Xác suất"
   ]
  },
  {
   "cell_type": "markdown",
   "metadata": {},
   "source": [
    "##### Bài 3"
   ]
  },
  {
   "cell_type": "code",
   "execution_count": 3,
   "metadata": {},
   "outputs": [
    {
     "name": "stdout",
     "output_type": "stream",
     "text": [
      "[6, 6, 1, 4, 2, 6, 5, 1, 4, 1, 2, 5, 1, 5, 2, 1, 4, 2, 4, 5]\n"
     ]
    }
   ],
   "source": [
    "def Roll_nDices(n):\n",
    "    values = [1,2,3,4,5,6]\n",
    "    value_set = []\n",
    "    value_set.extend(np.random.choice(values, n, replace = True))\n",
    "    return value_set\n",
    "print(Roll_nDices(20))"
   ]
  },
  {
   "cell_type": "markdown",
   "metadata": {},
   "source": [
    "##### Bài 4"
   ]
  },
  {
   "cell_type": "code",
   "execution_count": 4,
   "metadata": {},
   "outputs": [
    {
     "name": "stdout",
     "output_type": "stream",
     "text": [
      "[45, 55, 62, 50, 52, 69, 48, 52, 45, 47]\n"
     ]
    }
   ],
   "source": [
    "def Roll_nDices_mTimes(n,m):\n",
    "    values = [1,2,3,4,5,6]\n",
    "    value_set = []\n",
    "    for i in range(n):\n",
    "        total_faces = 0\n",
    "        for j in range(m):\n",
    "            total_faces += np.random.choice(values, 1, replace = True)\n",
    "        value_set.extend(total_faces)\n",
    "    return value_set\n",
    "print(Roll_nDices_mTimes(10,15))"
   ]
  },
  {
   "cell_type": "markdown",
   "metadata": {},
   "source": [
    "##### Bài 5"
   ]
  },
  {
   "cell_type": "code",
   "execution_count": 5,
   "metadata": {},
   "outputs": [],
   "source": [
    "import matplotlib.pyplot as plt"
   ]
  },
  {
   "cell_type": "code",
   "execution_count": 8,
   "metadata": {},
   "outputs": [
    {
     "data": {
      "text/plain": [
       "(array([  4.,  14.,  31.,  47.,  78.,  91., 104., 126., 131., 104., 107.,\n",
       "         72.,  38.,  33.,  10.,  10.]),\n",
       " array([ 3.    ,  3.9375,  4.875 ,  5.8125,  6.75  ,  7.6875,  8.625 ,\n",
       "         9.5625, 10.5   , 11.4375, 12.375 , 13.3125, 14.25  , 15.1875,\n",
       "        16.125 , 17.0625, 18.    ]),\n",
       " <a list of 16 Patch objects>)"
      ]
     },
     "execution_count": 8,
     "metadata": {},
     "output_type": "execute_result"
    },
    {
     "data": {
      "image/png": "[encoded data removed]",
      "text/plain": [
       "<Figure size 432x288 with 1 Axes>"
      ]
     },
     "metadata": {
      "needs_background": "light"
     },
     "output_type": "display_data"
    }
   ],
   "source": [
    "Valueset = Roll_nDices_mTimes(1000,3)\n",
    "plt.hist(Valueset, bins = 16)"
   ]
  },
  {
   "cell_type": "markdown",
   "metadata": {},
   "source": [
    "##### Bài 6"
   ]
  },
  {
   "cell_type": "code",
   "execution_count": 33,
   "metadata": {},
   "outputs": [
    {
     "name": "stdout",
     "output_type": "stream",
     "text": [
      "Tiến hành thí nghiệm A hai lần nhưng cho kết quả giống nhau: 0.2027\n",
      "Tiến hành thí nghiệm A hai lần nhưng cho kết quả khác nhau: 0.7983\n",
      "Tiến hành thí nghiệm A hai lần nhưng cho kết quả trước lớn hơn kết quả sau: 0.3968\n",
      "Tiến hành thí nghiệm A hai lần nhưng cho kết quả trước nhỏ hơn kết quả sau: 0.4062\n"
     ]
    }
   ],
   "source": [
    "def Experiment_A(n):\n",
    "    box = [1,2,3,4,5]\n",
    "    count_1 = 0\n",
    "    count_2 = 0\n",
    "    count_3 = 0\n",
    "    count_4 = 0\n",
    "    result = []\n",
    "    for i in range(n):\n",
    "        result_1 = np.random.choice(box, 1, replace = True)\n",
    "        result_2 = np.random.choice(box, 1, replace = True)\n",
    "        if (result_1 == result_2):\n",
    "            count_1 += 1\n",
    "        elif (result_1 != result_2):\n",
    "            count_2 += 1\n",
    "        if (result_1 > result_2):\n",
    "            count_3 += 1\n",
    "        elif (result_1 < result_2):\n",
    "            count_4 += 1\n",
    "    result = [count_1/n, count_2/n, count_3/n, count_4/n]\n",
    "    return result\n",
    "\n",
    "print(\"Tiến hành thí nghiệm A hai lần nhưng cho kết quả giống nhau:\",Experiment_A(10000)[0])\n",
    "print(\"Tiến hành thí nghiệm A hai lần nhưng cho kết quả khác nhau:\",Experiment_A(10000)[1])\n",
    "print(\"Tiến hành thí nghiệm A hai lần nhưng cho kết quả trước lớn hơn kết quả sau:\",Experiment_A(10000)[2])\n",
    "print(\"Tiến hành thí nghiệm A hai lần nhưng cho kết quả trước nhỏ hơn kết quả sau:\",Experiment_A(10000)[3])"
   ]
  },
  {
   "cell_type": "markdown",
   "metadata": {},
   "source": [
    "#### Phần 2: Xác suất có điều kiện"
   ]
  },
  {
   "cell_type": "markdown",
   "metadata": {},
   "source": [
    "##### Bài 1"
   ]
  },
  {
   "cell_type": "code",
   "execution_count": 35,
   "metadata": {},
   "outputs": [
    {
     "name": "stdout",
     "output_type": "stream",
     "text": [
      "Hộp I có 3 vật loại A và 7 vật loại B. Hộp II có 5 vật loại A và 5 vật loại B:  0.5479\n",
      "Hộp I có 2 vật loại A và 8 vật loại B. Hộp II có 6 vật loại A và 4 vật loại B:  0.13768\n",
      "Hộp I có 4 vật loại A và 6 vật loại B. Hộp II có 4 vật loại A và 6 vật loại B:  0.31814\n"
     ]
    }
   ],
   "source": [
    "def AB_in_Box(n, case):\n",
    "    count = 0\n",
    "    for i in range(n):\n",
    "        box_1 = [1,1,1,0,0,0,0,0,0,0]\n",
    "        box_2 = [1,1,1,1,1,0,0,0,0,0]\n",
    "        choose_1 = np.random.choice(box_1, 1, replace = True)\n",
    "        box_1.remove(choose_1)\n",
    "        box_2.extend(choose_1)\n",
    "        choose_2 = np.random.choice(box_2, 1, replace = True)\n",
    "        box_2.remove(choose_2)\n",
    "        box_1.extend(choose_2)\n",
    "        if (sum(box_1) == 3 and case == 1):\n",
    "            count += 1\n",
    "        elif (sum(box_1) == 2 and case == 2):\n",
    "            count += 1\n",
    "        elif (sum(box_1) == 4 and case == 3):\n",
    "            count += 1\n",
    "    return count/n\n",
    "\n",
    "print(\"Hộp I có 3 vật loại A và 7 vật loại B. Hộp II có 5 vật loại A và 5 vật loại B: \",AB_in_Box(100000,1))\n",
    "print(\"Hộp I có 2 vật loại A và 8 vật loại B. Hộp II có 6 vật loại A và 4 vật loại B: \",AB_in_Box(100000,2))\n",
    "print(\"Hộp I có 4 vật loại A và 6 vật loại B. Hộp II có 4 vật loại A và 6 vật loại B: \",AB_in_Box(100000,3))"
   ]
  },
  {
   "cell_type": "markdown",
   "metadata": {},
   "source": [
    "##### Bài 2"
   ]
  },
  {
   "cell_type": "code",
   "execution_count": 36,
   "metadata": {},
   "outputs": [],
   "source": [
    "import random as rp"
   ]
  },
  {
   "cell_type": "code",
   "execution_count": 43,
   "metadata": {},
   "outputs": [
    {
     "name": "stdout",
     "output_type": "stream",
     "text": [
      "Xác suất ra A là: [0.3998]\n",
      "Xác suất ra B là: [0.6056]\n"
     ]
    }
   ],
   "source": [
    "def A_in_box(n):\n",
    "    count = 0\n",
    "    choose = 0\n",
    "    for i in range(n):\n",
    "        box_1=[1,1,1,0,0,0,0,0,0,0]\n",
    "        box_2=[1,1,1,1,1,0,0,0,0,0]\n",
    "        box = rd.randint(1,2)\n",
    "        if box == 1:\n",
    "            choose = np.random.choice(box_1, 1, replace = True)\n",
    "        else:\n",
    "            choose = np.random.choice(box_2, 1, replace = True)\n",
    "        count = count + choose\n",
    "    return count/n\n",
    "print(\"Xác suất ra A là:\",A_in_box(10000))\n",
    "print(\"Xác suất ra B là:\",1-A_in_box(10000))"
   ]
  }
 ],
 "metadata": {
  "kernelspec": {
   "display_name": "Python 3",
   "language": "python",
   "name": "python3"
  },
  "language_info": {
   "codemirror_mode": {
    "name": "ipython",
    "version": 3
   },
   "file_extension": ".py",
   "mimetype": "text/x-python",
   "name": "python",
   "nbconvert_exporter": "python",
   "pygments_lexer": "ipython3",
   "version": "3.7.4"
  }
 },
 "nbformat": 4,
 "nbformat_minor": 2
}

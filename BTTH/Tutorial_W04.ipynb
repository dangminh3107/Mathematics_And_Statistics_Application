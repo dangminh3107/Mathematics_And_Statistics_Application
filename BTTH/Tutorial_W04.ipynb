{
 "cells": [
  {
   "cell_type": "markdown",
   "metadata": {},
   "source": [
    "### MTH00051 -- TUTORIAL 04\n",
    "## MARKOV CHAIN"
   ]
  },
  {
   "attachments": {
    "image.png": {
     "image/png": "[encoded data removed]"
    }
   },
   "cell_type": "markdown",
   "metadata": {},
   "source": [
    "Ví dụ:\n",
    "\n",
    "Các hoạt động của An trong mùa dịch: chạy bộ, ăn kem, ngủ.\n",
    "\n",
    "Dựa vào thống kê lịch sử hoạt động, người ta thấy rằng: nếu hôm nay An ngủ, hôm sau có 60% khả năng cô ấy chạy bộ, 20% ngủ tiếp, 20% ăn kem.\n",
    "\n",
    "Nếu hôm nay chạy bộ, 60% hôm sau sẽ chạy tiếp, 30% ăn kem, 10% ngủ.\n",
    "\n",
    "Nếu hôm nay ăn kem, 10% khả năng mai sẽ ăn tiếp, 70% chạy bộ, 20% ngủ.\n",
    "\n",
    "![image.png](attachment:image.png)\n",
    "\n",
    "Câu hỏi: nếu hôm nay ngủ, xác suất để An chạy bộ sau khi bị cách li 1 ngày là bao nhiêu? (ngày thứ 2 sẽ chạy bộ, nếu tính hôm nay là ngày thứ 0)"
   ]
  },
  {
   "cell_type": "code",
   "execution_count": 1,
   "metadata": {},
   "outputs": [
    {
     "data": {
      "text/plain": [
       "0.62"
      ]
     },
     "execution_count": 1,
     "metadata": {},
     "output_type": "execute_result"
    }
   ],
   "source": [
    "(0.2 * 0.6) + (0.6 * 0.6) + (0.2 * 0.7) # sleep in day0 -> [(sleep -> run) or (run -> run) or (ice cream -> run)]"
   ]
  },
  {
   "cell_type": "code",
   "execution_count": 1,
   "metadata": {},
   "outputs": [
    {
     "name": "stdout",
     "output_type": "stream",
     "text": [
      "          Sleep  Run  Icecream\n",
      "Sleep       0.2  0.1       0.2\n",
      "Run         0.6  0.6       0.7\n",
      "Icecream    0.2  0.3       0.1\n",
      "Start state [Sleep, Icecream, Run]: Sleep\n",
      "(['Sleep', 'Run', 'Run'], 0.36)\n",
      "0.6178\n"
     ]
    }
   ],
   "source": [
    "import numpy as np\n",
    "import random as rm\n",
    "import pandas as pd\n",
    "# The statespace\n",
    "states = [\"Sleep\",\"Run\",\"Icecream\"]\n",
    "\n",
    "# Probabilities matrix (transition matrix)\n",
    "transitionMatrix = {\"Sleep\": [0.2,0.6,0.2], \"Run\": [0.1,0.6,0.3], \"Icecream\": [0.2,0.7,0.1]}\n",
    "\n",
    "df_transitionMatrix = pd.DataFrame(transitionMatrix, index = states)\n",
    "print(df_transitionMatrix)\n",
    "# Choose the starting state\n",
    "today = input(\"Start state [Sleep, Icecream, Run]: \")\n",
    "\n",
    "# A function that implements the Markov model to forecast the state/mood.\n",
    "def activity_forecast(days, today):\n",
    "    # Shall store the sequence of states taken\n",
    "    activityList = [today]\n",
    "    prob = 1\n",
    "    for i in range(days):\n",
    "        change = np.random.choice(states, replace = True, p = df_transitionMatrix[today])\n",
    "        prob *= df_transitionMatrix.loc[change, today]\n",
    "        activityList.append(change)\n",
    "        today = change\n",
    "    return activityList, prob\n",
    "        \n",
    "print(activity_forecast(2, today))\n",
    "\n",
    "N = 10000\n",
    "# Iterate through the activityList to get a count of all activities ending in state:'Run'\n",
    "list_activity = []\n",
    "for i in range(1,N):\n",
    "    list_activity.append(activity_forecast(2, today)[0])\n",
    "prob = sum([1 for act in list_activity if act[-1] == \"Run\"])/N\n",
    "print (prob)"
   ]
  },
  {
   "cell_type": "code",
   "execution_count": 43,
   "metadata": {},
   "outputs": [
    {
     "name": "stdout",
     "output_type": "stream",
     "text": [
      "          Sleep    Run  Icecream\n",
      "Sleep     0.138  0.137     0.139\n",
      "Run       0.624  0.623     0.626\n",
      "Icecream  0.238  0.240     0.235\n",
      "      0     1     2\n",
      "0  0.14  0.14  0.13\n",
      "1  0.62  0.63  0.61\n",
      "2  0.24  0.23  0.26\n",
      "             Sleep       Run  Icecream\n",
      "Sleep     0.137615  0.137615  0.137615\n",
      "Run       0.623853  0.623853  0.623853\n",
      "Icecream  0.238532  0.238532  0.238532\n"
     ]
    }
   ],
   "source": [
    "# With transition matrix in t0, we can build the Markov Chain by multiplying this transition matrix \n",
    "# by itself to obtain the probability matrix in t1\n",
    "t0 = df_transitionMatrix\n",
    "t1 = t0.dot(t0)\n",
    "t2 = t0.dot(t1)\n",
    "print(t2)\n",
    "print(pd.DataFrame(np.linalg.matrix_power(t0, 2)))\n",
    "\n",
    "#equilibrium matrix => iterate the process up to the probabilities don’t change more\n",
    "t0 = df_transitionMatrix\n",
    "ti = t0\n",
    "ti1 = t0.dot(ti)\n",
    "while not ti.equals(ti1):\n",
    "    ti = ti1\n",
    "    ti1 = t0.dot(ti)\n",
    "print(ti)"
   ]
  }
 ],
 "metadata": {
  "kernelspec": {
   "display_name": "Python 3",
   "language": "python",
   "name": "python3"
  },
  "language_info": {
   "codemirror_mode": {
    "name": "ipython",
    "version": 3
   },
   "file_extension": ".py",
   "mimetype": "text/x-python",
   "name": "python",
   "nbconvert_exporter": "python",
   "pygments_lexer": "ipython3",
   "version": "3.7.4"
  }
 },
 "nbformat": 4,
 "nbformat_minor": 4
}

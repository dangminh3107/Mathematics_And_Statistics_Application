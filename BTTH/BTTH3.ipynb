{
 "cells": [
  {
   "cell_type": "code",
   "execution_count": 17,
   "metadata": {},
   "outputs": [],
   "source": [
    "from scipy.stats import bernoulli\n",
    "from scipy.stats import geom\n",
    "import seaborn as sns\n",
    "import numpy as np"
   ]
  },
  {
   "cell_type": "markdown",
   "metadata": {},
   "source": [
    "### 3.1"
   ]
  },
  {
   "cell_type": "code",
   "execution_count": 7,
   "metadata": {},
   "outputs": [
    {
     "data": {
      "text/plain": [
       "array([0.66666667, 0.33333333])"
      ]
     },
     "execution_count": 7,
     "metadata": {},
     "output_type": "execute_result"
    }
   ],
   "source": [
    "m, n = 200, 100\n",
    "bernoulli.pmf([0,1], p = [n/(n+m)])"
   ]
  },
  {
   "cell_type": "markdown",
   "metadata": {},
   "source": [
    "### 3.2"
   ]
  },
  {
   "cell_type": "code",
   "execution_count": 8,
   "metadata": {},
   "outputs": [
    {
     "data": {
      "text/plain": [
       "<matplotlib.axes._subplots.AxesSubplot at 0x1e3ec72d448>"
      ]
     },
     "execution_count": 8,
     "metadata": {},
     "output_type": "execute_result"
    },
    {
     "data": {
      "image/png": "[encoded data removed]",
      "text/plain": [
       "<Figure size 432x288 with 1 Axes>"
      ]
     },
     "metadata": {
      "needs_background": "light"
     },
     "output_type": "display_data"
    }
   ],
   "source": [
    "z = np.random.geometric(p=0.1, size = 20)\n",
    "sns.distplot(z, bins = 10)"
   ]
  },
  {
   "cell_type": "markdown",
   "metadata": {},
   "source": [
    "### 3.3"
   ]
  },
  {
   "cell_type": "code",
   "execution_count": 9,
   "metadata": {},
   "outputs": [
    {
     "name": "stdout",
     "output_type": "stream",
     "text": [
      "[0.0, 0.10137, 0.09052, 0.07994, 0.07378, 0.06555, 0.05851, 0.05378, 0.04846, 0.04259, 0.03868, 0.03404, 0.03144, 0.02787, 0.02614, 0.02257, 0.02001, 0.01855, 0.01665, 0.01536, 0.01401, 0.01225, 0.01089, 0.00986, 0.00906, 0.00796, 0.00709, 0.0063, 0.0055, 0.00527, 0.00445, 0.004, 0.00404, 0.00312, 0.00271, 0.00264, 0.0026, 0.00221, 0.00205, 0.0019, 0.00178, 0.00151, 0.00142, 0.00117, 0.00101, 0.00105, 0.00087, 0.00082, 0.00068, 0.00065, 0.00046, 0.00046, 0.00042, 0.00039, 0.00038, 0.00028, 0.00034, 0.00014, 0.00026, 0.00021, 0.00021, 0.00019, 0.00022, 0.00013, 8e-05, 9e-05, 8e-05, 0.00011, 8e-05, 0.00012, 9e-05, 6e-05, 5e-05, 0.0, 4e-05, 4e-05, 5e-05, 1e-05, 3e-05, 3e-05, 3e-05, 4e-05, 5e-05, 2e-05, 1e-05, 1e-05, 0.0, 1e-05, 1e-05, 1e-05, 2e-05, 0.0, 0.0, 0.0, 0.0, 0.0, 1e-05, 1e-05, 0.0, 0.0]\n",
      "0.08223\n"
     ]
    }
   ],
   "source": [
    "# cau 3\n",
    "def frequency():\n",
    "    count = 0\n",
    "    while(1):\n",
    "        count += 1\n",
    "        if np.random.choice(['Y', 'N'], p = [1/10, 9/10]) == 'Y':\n",
    "            return count\n",
    "def simulation(N):\n",
    "    return [frequency() for _ in range(N)]\n",
    "\n",
    "a = simulation(100000)\n",
    "#print(a)\n",
    "np.mean(simulation(2000))\n",
    "soluong = [a.count(i)/100000 for i in range(100)]\n",
    "print(soluong)\n",
    "a = np.random.geometric(p = 1/10, size = 100000)\n",
    "print(list(a).count(3)/100000)"
   ]
  },
  {
   "cell_type": "markdown",
   "metadata": {},
   "source": [
    "## Exercise 3"
   ]
  },
  {
   "cell_type": "markdown",
   "metadata": {},
   "source": [
    "### 1.1"
   ]
  },
  {
   "cell_type": "code",
   "execution_count": 11,
   "metadata": {},
   "outputs": [
    {
     "name": "stdout",
     "output_type": "stream",
     "text": [
      "0 0.006737946999085467\n",
      "1 0.03368973499542734\n",
      "2 0.08422433748856832\n",
      "3 0.1403738958142805\n",
      "4 0.17546736976785063\n",
      "5 0.17546736976785068\n",
      "6 0.1462228081398754\n",
      "7 0.10444486295705395\n",
      "8 0.06527803934815865\n",
      "9 0.036265577415643714\n",
      "10 0.018132788707821854\n"
     ]
    }
   ],
   "source": [
    "from scipy.stats import poisson\n",
    "x = 0 \n",
    "for i in range(0, 11):\n",
    "    x = poisson.pmf(i, 5)\n",
    "    print(i, x)"
   ]
  },
  {
   "cell_type": "code",
   "execution_count": 12,
   "metadata": {},
   "outputs": [
    {
     "name": "stdout",
     "output_type": "stream",
     "text": [
      "0.006737946999085467\n"
     ]
    }
   ],
   "source": [
    "print(poisson.pmf(0,5))"
   ]
  },
  {
   "cell_type": "code",
   "execution_count": 14,
   "metadata": {},
   "outputs": [
    {
     "name": "stdout",
     "output_type": "stream",
     "text": [
      "0.006737946999085467\n"
     ]
    }
   ],
   "source": [
    "import math as m\n",
    "lamda = 5\n",
    "def call(k):\n",
    "    result = m.exp(-lamda)*(lamda**k)/m.factorial(k)\n",
    "    print(result)\n",
    "call(0)"
   ]
  },
  {
   "cell_type": "markdown",
   "metadata": {},
   "source": [
    "### 1.2"
   ]
  },
  {
   "cell_type": "code",
   "execution_count": 16,
   "metadata": {},
   "outputs": [
    {
     "name": "stdout",
     "output_type": "stream",
     "text": [
      "1.0\n",
      "0.6044\n"
     ]
    }
   ],
   "source": [
    "def simulation2(a, b, n):\n",
    "    box = [0]*(b - a + 1)\n",
    "    for i in range(b- a + 1):\n",
    "        box[i] = i + a\n",
    "    for i in range(n):\n",
    "        samples = np.random.uniform(0.5, 1., size = n)\n",
    "    return samples\n",
    "\n",
    "n = 10000\n",
    "x = simulation2(5, 10, n)\n",
    "print(sum(x[i] < 8 for i in range(n))/n)\n",
    "y = np.random.uniform(5, 10, n)\n",
    "print(sum(y[i] < 8 for i in range(n))/n)"
   ]
  },
  {
   "cell_type": "markdown",
   "metadata": {},
   "source": [
    "### 1.3"
   ]
  },
  {
   "cell_type": "code",
   "execution_count": 21,
   "metadata": {},
   "outputs": [],
   "source": [
    "import matplotlib.pyplot as plt\n",
    "from scipy.stats import norm"
   ]
  },
  {
   "cell_type": "code",
   "execution_count": 23,
   "metadata": {},
   "outputs": [
    {
     "name": "stdout",
     "output_type": "stream",
     "text": [
      "Xac suat thoa de bai 0.0029797632350545555\n",
      "Xac suat mo phong: 0.00323\n"
     ]
    },
    {
     "data": {
      "image/png": "[encoded data removed]",
      "text/plain": [
       "<Figure size 432x288 with 1 Axes>"
      ]
     },
     "metadata": {
      "needs_background": "light"
     },
     "output_type": "display_data"
    }
   ],
   "source": [
    "mu, sd = 169, 4\n",
    "d = norm.rvs(loc = mu, scale = sd, size = 100000)\n",
    "plt.hist(d)\n",
    "print('Xac suat thoa de bai', 1 - norm.cdf(180, loc = mu, scale = sd))\n",
    "print('Xac suat mo phong: ' + str(sum(i > 180 for i in d)/len(d)))"
   ]
  },
  {
   "cell_type": "markdown",
   "metadata": {},
   "source": [
    "### 2.1"
   ]
  },
  {
   "cell_type": "code",
   "execution_count": 24,
   "metadata": {},
   "outputs": [
    {
     "name": "stdout",
     "output_type": "stream",
     "text": [
      "Bang phan phoi nhi thuc: n= 10 ,p= 0.5\n"
     ]
    },
    {
     "data": {
      "image/png": "[encoded data removed]",
      "text/plain": [
       "<Figure size 432x288 with 1 Axes>"
      ]
     },
     "metadata": {
      "needs_background": "light"
     },
     "output_type": "display_data"
    },
    {
     "name": "stdout",
     "output_type": "stream",
     "text": [
      "Bang phan phoi nhi thuc: n= 100 ,p= 0.05\n"
     ]
    },
    {
     "data": {
      "image/png": "[encoded data removed]",
      "text/plain": [
       "<Figure size 432x288 with 1 Axes>"
      ]
     },
     "metadata": {
      "needs_background": "light"
     },
     "output_type": "display_data"
    },
    {
     "name": "stdout",
     "output_type": "stream",
     "text": [
      "Bang phan phoi nhi thuc: n= 1000 ,p= 0.005\n"
     ]
    },
    {
     "data": {
      "image/png": "[encoded data removed]",
      "text/plain": [
       "<Figure size 432x288 with 1 Axes>"
      ]
     },
     "metadata": {
      "needs_background": "light"
     },
     "output_type": "display_data"
    },
    {
     "name": "stdout",
     "output_type": "stream",
     "text": [
      "Bang phan phoi nhi thuc: n= 10000 ,p= 0.0005\n"
     ]
    },
    {
     "data": {
      "image/png": "[encoded data removed]",
      "text/plain": [
       "<Figure size 432x288 with 1 Axes>"
      ]
     },
     "metadata": {
      "needs_background": "light"
     },
     "output_type": "display_data"
    },
    {
     "name": "stdout",
     "output_type": "stream",
     "text": [
      "Phan phoi poisson: lamda = 5\n"
     ]
    },
    {
     "data": {
      "image/png": "[encoded data removed]",
      "text/plain": [
       "<Figure size 432x288 with 1 Axes>"
      ]
     },
     "metadata": {
      "needs_background": "light"
     },
     "output_type": "display_data"
    }
   ],
   "source": [
    "n = [10,0.5,100,0.05,1000,0.005,10000,0.0005]\n",
    "\n",
    "for i in range(int(len(n)/2)):\n",
    "    print(\"Bang phan phoi nhi thuc: n=\",n[2*i],\",p=\",n[2*i+1])\n",
    "    plt.hist(binom.rvs(n[2*i], n[2*i+1], loc=0, size=100000, random_state=None))\n",
    "    plt.xlim(0, 10)\n",
    "    plt.show()\n",
    "    \n",
    "print(\"Phan phoi poisson: lamda = 5\")\n",
    "plt.hist(poisson.rvs(5, loc=0, size=100000, random_state=None))\n",
    "plt.xlim(0, 10)\n",
    "plt.show()"
   ]
  },
  {
   "cell_type": "code",
   "execution_count": null,
   "metadata": {},
   "outputs": [],
   "source": []
  }
 ],
 "metadata": {
  "kernelspec": {
   "display_name": "Python 3",
   "language": "python",
   "name": "python3"
  },
  "language_info": {
   "codemirror_mode": {
    "name": "ipython",
    "version": 3
   },
   "file_extension": ".py",
   "mimetype": "text/x-python",
   "name": "python",
   "nbconvert_exporter": "python",
   "pygments_lexer": "ipython3",
   "version": "3.7.4"
  }
 },
 "nbformat": 4,
 "nbformat_minor": 2
}

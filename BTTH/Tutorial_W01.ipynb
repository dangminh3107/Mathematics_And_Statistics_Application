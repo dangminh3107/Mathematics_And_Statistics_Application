{
 "cells": [
  {
   "cell_type": "markdown",
   "metadata": {},
   "source": [
    "1. Basic PYTHON:\n",
    "    - [tutorialspoint.com](https://www.tutorialspoint.com/python/index.htm)\n",
    "    - [learnpython.org](https://www.learnpython.org/)"
   ]
  },
  {
   "cell_type": "markdown",
   "metadata": {},
   "source": [
    "2. PYTHON Analytics Libs:\n",
    "    - [Python statistics](https://docs.python.org/3/library/statistics.html): Python module for calculating mathematical statistics of numeric\n",
    "    - [Numpy](https://numpy.org): package for large, multi-dimensional arrays and matrices\n",
    "    - [Pandas](https://pandas.pydata.org): anaconda package for manipulation and analysis in structured data\n",
    "    - [scikit-learn](https://scikit-learn.org/stable/): package for classification, regression and clustering algorithms\n",
    "    - [Matplotlib](https://matplotlib.org): for visualization"
   ]
  },
  {
   "cell_type": "markdown",
   "metadata": {},
   "source": [
    "3. Example:"
   ]
  },
  {
   "cell_type": "code",
   "execution_count": 2,
   "metadata": {},
   "outputs": [
    {
     "name": "stdout",
     "output_type": "stream",
     "text": [
      "[14, 12, 15, 11, 18, 10, 17] 17\n",
      "6\n"
     ]
    }
   ],
   "source": [
    "# 3.1 Linear search\n",
    "def linear_search(l, value):\n",
    "    for i in range(len(l)):\n",
    "        if l[i] == value:\n",
    "            return i\n",
    "    return -1\n",
    "\n",
    "import random as rd\n",
    "rd_list = rd.sample(range(10,20), 7)\n",
    "rd_number = rd.randint(10,20)\n",
    "print(rd_list, rd_number)\n",
    "print(linear_search(rd_list, rd_number))"
   ]
  },
  {
   "cell_type": "code",
   "execution_count": 3,
   "metadata": {},
   "outputs": [
    {
     "name": "stdout",
     "output_type": "stream",
     "text": [
      "mean =  2.8\n",
      "[[1. 3.]\n",
      " [2. 4.]]\n"
     ]
    }
   ],
   "source": [
    "# 3.2 Python statistics, Numpy\n",
    "import statistics\n",
    "print('mean = ', statistics.mean([1, 2, 3, 4, 4]))\n",
    "\n",
    "import numpy as np\n",
    "a = np.array([[1.0, 2.0], [3.0, 4.0]])\n",
    "print(a.transpose())"
   ]
  },
  {
   "cell_type": "code",
   "execution_count": 4,
   "metadata": {},
   "outputs": [
    {
     "name": "stdout",
     "output_type": "stream",
     "text": [
      "      A    B   C   D\n",
      "0   NaN  5.0  20  14\n",
      "1   4.0  2.0  16   3\n",
      "2   5.0  NaN   7  17\n",
      "3  44.0  3.0   3   2\n",
      "\n",
      "mean axis = 0\n",
      "A    17.666667\n",
      "B     3.333333\n",
      "C    11.500000\n",
      "D     9.000000\n",
      "dtype: float64\n",
      "\n",
      "mean axis = 1\n",
      "0      NaN\n",
      "1     6.25\n",
      "2      NaN\n",
      "3    13.00\n",
      "dtype: float64\n"
     ]
    }
   ],
   "source": [
    "# 3.3 Pandas\n",
    "import numpy as np\n",
    "import pandas as pd\n",
    "\n",
    "d = {\"A\":[None, 4, 5, 44], \"B\":[5, 2, None, 3], \"C\":[20, 16, 7, 3], \"D\":[14, 3, 17, 2]}\n",
    "df = pd.DataFrame(d)\n",
    "print(df)\n",
    "print('\\nmean axis = 0')\n",
    "print(df.mean(axis=0))\n",
    "print('\\nmean axis = 1')\n",
    "print(df.mean(axis=1, skipna=False))"
   ]
  },
  {
   "cell_type": "code",
   "execution_count": 5,
   "metadata": {},
   "outputs": [
    {
     "name": "stdout",
     "output_type": "stream",
     "text": [
      "    Country  Region\n",
      "0   Algeria  AFRICA\n",
      "1    Angola  AFRICA\n",
      "2     Benin  AFRICA\n",
      "3  Botswana  AFRICA\n",
      "4   Burkina  AFRICA\n"
     ]
    }
   ],
   "source": [
    "import numpy as np\n",
    "import pandas as pd\n",
    "\n",
    "url = \"https://raw.githubusercontent.com/cs109/2014_data/master/countries.csv\"\n",
    "df = pd.read_csv(url)\n",
    "print(df.head(5))"
   ]
  },
  {
   "cell_type": "code",
   "execution_count": 6,
   "metadata": {},
   "outputs": [
    {
     "name": "stdout",
     "output_type": "stream",
     "text": [
      "               Country\n",
      "Region                \n",
      "AFRICA              54\n",
      "ASIA                44\n",
      "EUROPE              47\n",
      "NORTH AMERICA       23\n",
      "OCEANIA             14\n",
      "SOUTH AMERICA       12\n"
     ]
    },
    {
     "data": {
      "image/png": "[encoded data removed]",
      "text/plain": [
       "<Figure size 432x288 with 1 Axes>"
      ]
     },
     "metadata": {
      "needs_background": "light"
     },
     "output_type": "display_data"
    }
   ],
   "source": [
    "import matplotlib.pyplot as plt\n",
    "count = df.groupby('Region').count()\n",
    "print(count)\n",
    "plt.plot(count)\n",
    "plt.show()"
   ]
  },
  {
   "cell_type": "code",
   "execution_count": 11,
   "metadata": {},
   "outputs": [
    {
     "name": "stdout",
     "output_type": "stream",
     "text": [
      "[[1 2 3]\n",
      " [4 5 6]\n",
      " [7 8 9]]\n",
      "[[ 3.15251974e+15 -6.30503948e+15  3.15251974e+15]\n",
      " [-6.30503948e+15  1.26100790e+16 -6.30503948e+15]\n",
      " [ 3.15251974e+15 -6.30503948e+15  3.15251974e+15]]\n"
     ]
    }
   ],
   "source": [
    "import numpy as np\n",
    "a = np.array([[1,2,3],[4,5,6],[7,8,9]])\n",
    "print(a)\n",
    "b = np.linalg.inv(a)\n",
    "print(b)"
   ]
  }
 ],
 "metadata": {
  "kernelspec": {
   "display_name": "Python 3",
   "language": "python",
   "name": "python3"
  },
  "language_info": {
   "codemirror_mode": {
    "name": "ipython",
    "version": 3
   },
   "file_extension": ".py",
   "mimetype": "text/x-python",
   "name": "python",
   "nbconvert_exporter": "python",
   "pygments_lexer": "ipython3",
   "version": "3.7.4"
  }
 },
 "nbformat": 4,
 "nbformat_minor": 4
}

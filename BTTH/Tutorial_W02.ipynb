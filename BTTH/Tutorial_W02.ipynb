{
 "cells": [
  {
   "cell_type": "markdown",
   "metadata": {},
   "source": [
    "### MTH00051 -- TUTORIAL 02 \n",
    "## XÁC SUẤT VÀ XÁC SUẤT CÓ ĐIỀU KIỆN\n",
    "## PHÂN PHỐI CỦA BIẾN NGẪU NHIÊN\n",
    "---"
   ]
  },
  {
   "cell_type": "markdown",
   "metadata": {},
   "source": [
    "### I. Xác suất và xác suất có điều kiện\n",
    " \n",
    " #### 1. Xác suất\n",
    " \n",
    " Để tính gần đúng xác suất của một biến cố $A$ liên quan đến thí nghiệm $T$, ta có thể dùng phương pháp thống kê như sau: thực hiện lặp lại $N$ lần (độc lập) thí nghiệm $T$ và đếm số lần biến cố $A$ xảy ra, $m$. \n",
    " \n",
    " Khi đó $f_A$ được gọi là tần suất của $A$: $$f_A = \\frac{m}{N} $$ Khi $N$ đủ lớn, ta có $$ f_A \\approx P(A)$$\n",
    "Việc thực hiện lặp lại nhiều lần thí nghiệm $T$ có thể được mô phỏng (simulate) trên máy.\n",
    "\n",
    "Lưu ý:\n",
    " * Chạy với $N$ đủ lớn thì tần suất sẽ xấp xỉ xác suất cần tính\n",
    " * Dấu hiệu nhận biết $N$ đủ lớn: khi $N$ nhỏ thì kết quả dao động mạnh (không ổn định, lúclớn lúc nhỏ), còn khi $N$ đủ lớn thì kết quả dao động ít hơn (ổn định, xêm xêm cùng bậc). Nhưng $N$ lớn quá thì tốn thời gian chạy\n",
    " * Mỗi lần chạy sẽ có kết quả khác nhau do ngẫu nhiên"
   ]
  },
  {
   "cell_type": "code",
   "execution_count": 6,
   "metadata": {},
   "outputs": [
    {
     "name": "stdout",
     "output_type": "stream",
     "text": [
      "Bốc có hoàn lại P(A) = 0.037037037037037035\n",
      "Bốc không hoàn lại P(A) = 0.029556650246305417\n"
     ]
    }
   ],
   "source": [
    "# VD: Bốc ngẫu nhiên 3 viên bi trong hộp gồm 10 bi Đỏ và 20 bi Đen. \n",
    "# Tính xác suất bốc được cả 3 bi Đỏ trong các trường hợp:\n",
    "# Bốc có hoàn lại\n",
    "# Bốc không hoàn lại\n",
    "\n",
    "red, black = 10, 20\n",
    "total = red + black\n",
    "\n",
    "# Bốc có hoàn lại\n",
    "omega = pow(total, 3) # Vì bốc có hoàn lại nên số phần tử của không gian mẫu là 30^3 \n",
    "A = pow(red, 3) # Gọi A là biến cố ``bốc được cả 3 bi Đỏ'' thì số kết quả thuận lợi cho A là 10^3\n",
    "P_A = A/omega\n",
    "print('Bốc có hoàn lại P(A) =', P_A)\n",
    "\n",
    "\n",
    "# Bốc không hoàn lại\n",
    "from operator import mul\n",
    "from fractions import Fraction\n",
    "from functools import reduce\n",
    "def nCk(n,k):\n",
    "    return int(reduce(mul, (Fraction(n-i, i+1) for i in range(k)), 1))\n",
    "\n",
    "omega = nCk(30, 3) # Vì bốc không hoàn lại và 'không quan tâm thứ tự' \n",
    "A = nCk(10, 3) # Gọi $A$ là biến cố 'bốc được cả 3 bi Đỏ'\n",
    "P_A = A/omega\n",
    "print('Bốc không hoàn lại P(A) =', P_A)"
   ]
  },
  {
   "cell_type": "code",
   "execution_count": 7,
   "metadata": {},
   "outputs": [
    {
     "name": "stdout",
     "output_type": "stream",
     "text": [
      "Bốc có hoàn lại P(A) = 0.052\n",
      "Bốc không hoàn lại P(A) = 0.032\n"
     ]
    }
   ],
   "source": [
    "# Mô phỏng\n",
    "import numpy as np\n",
    "box = ['R']*10 + ['B']*20\n",
    "N = 500 # thay đổi N lớn để được kết quả tốt hơn\n",
    "\n",
    "# Bốc có hoàn lại\n",
    "def simulation():\n",
    "    ''' hàm thực hiện bốc bi và kiểm tra biến cố \"bốc được cả 3 bi Đỏ\" '''\n",
    "    samples = np.random.choice(box, size = 3, replace = True)\n",
    "    return all([s == 'R' for s in samples])\n",
    "def cal_prob(N):\n",
    "    ''' Hàm thực hiện N lần thí nghiệm bốc bi và tính tần suất của biến cố '''\n",
    "    return sum([simulation() for i in range(N)])/N\n",
    "print('Bốc có hoàn lại P(A) =', cal_prob(N)) \n",
    "\n",
    "# Bốc không hoàn lại\n",
    "def simulation():\n",
    "    ''' hàm thực hiện bốc bi và kiểm tra biến cố \"bốc được cả 3 bi Đỏ\" '''\n",
    "    samples = np.random.choice(box, size = 3, replace = False)\n",
    "    return all([s == 'R' for s in samples])\n",
    "def cal_prob(N):\n",
    "    ''' Hàm thực hiện N lần thí nghiệm bốc bi và tính tần suất của biến cố '''\n",
    "    return sum([simulation() for i in range(N)])/N\n",
    "print('Bốc không hoàn lại P(A) =', cal_prob(N)) "
   ]
  },
  {
   "cell_type": "markdown",
   "metadata": {},
   "source": [
    "  #### 2. Xác suất có điều kiện\n",
    "  \n",
    "  Để tính gần đúng xác suất có điều kiện của một biến cố $B$ khi biết biến cố $A$ đã xảy ra trong thí nghiệm $T$, ta có thể dùng phương pháp thống kê như sau: thực hiện lặp lại $N$ lần (độc lập) thí nghiệm $T$, đếm số lần biến cố $A$ xảy ra, m, và trong các lần $A$ xảy ra thì đếm số lần $B$ cũng xảy ra, p. \n",
    "  \n",
    "  Khi đó $f(B|A)$ được gọi là tần suất của $B$ trên $A$: $$f(B|A)=\\frac{p}{m}$$\n",
    "  Khi $N$ đủ lớn, ta có $f(B|A)$ ~= $P(B|A)$."
   ]
  },
  {
   "cell_type": "code",
   "execution_count": 8,
   "metadata": {},
   "outputs": [
    {
     "data": {
      "text/plain": [
       "(0.23529411764705882, 0.22, 0.012941176470588235)"
      ]
     },
     "execution_count": 8,
     "metadata": {},
     "output_type": "execute_result"
    }
   ],
   "source": [
    "# VD: Rút ngẫu nhiên lần lượt 3 lá bài (không hoàn lại) từ bộ bài Tây 52 lá. Tính xác suất:\n",
    "# Lá bài thứ hai là bích khi biết lá bài thứ nhất là bích (P_2)\n",
    "# Lá bài thứ ba là bích khi biết cả hai lá bài đầu là bích (P_3)\n",
    "# Cả 3 lá bài là bích (P_all)\n",
    "\n",
    "P_A1 = 13/52 # Ai là biến cố ``lá bài rút lần thứ i là bích''\n",
    "P_2 = 12/51 # P(A2|A1): Khi lá bài rút lần thứ nhất là bích thì lúc rút lá bài thứ hai ta có bộ bài còn 51 lá trong đó có 12 lá bích\n",
    "P_3 = 11/50 # P(A3|A1 intersection A2)\n",
    "P_all = P_A1 * P_2 * P_3 # P(A1 intersection A2 intersection A3) = P(A1)*P(A2|A1)*P(A3|A1 intersection A2)\n",
    "P_2, P_3, P_all"
   ]
  },
  {
   "cell_type": "code",
   "execution_count": 9,
   "metadata": {},
   "outputs": [
    {
     "data": {
      "text/plain": [
       "(0.23818298349623457, 0.21560713084426505, 0.01282)"
      ]
     },
     "execution_count": 9,
     "metadata": {},
     "output_type": "execute_result"
    }
   ],
   "source": [
    "# Mô phỏng\n",
    "from itertools import product\n",
    "suits =['Heart', 'Club', 'Spade', 'Diamond']\n",
    "values = range(13)\n",
    "deck_of_cards = {i:j for i,j in enumerate(list(product(values, suits)))}\n",
    "N = 50000\n",
    "\n",
    "def throw(N):\n",
    "    count = [0, 0, 0]\n",
    "    for i in range(N):\n",
    "        samples = np.random.choice([*deck_of_cards], size = 3, replace = False)\n",
    "        count[0] += deck_of_cards[samples[0]][1] == 'Diamond'\n",
    "        count[1] += all([True if deck_of_cards[i][1] == 'Diamond' else False for i in samples[:2]])\n",
    "        count[2] += all([True if deck_of_cards[i][1] == 'Diamond' else False for i in samples])\n",
    "    return count\n",
    "\n",
    "count = throw(N)\n",
    "count[1]/count[0] if count[0] else 0, count[2]/count[1] if count[1] else 0, count[2]/N"
   ]
  },
  {
   "cell_type": "markdown",
   "metadata": {},
   "source": [
    "### II. Phân phối biến ngẫu nhiên\n",
    "#### 1. Phân phối của biến ngẫu nhiên rời rạc\n",
    "Hàm khối lượng xác suất  (probability mass function, pmf), hoặc gọn hơn là hàm xác suất (probability function, pf), xác định hoàn toàn phân phối của biến ngẫu nhiên (b.n.n) rời rạc. \n",
    "\n",
    "Để tính gần đúng hàm xác suất của một b.n.n rời rạc $X$ liên quan đến thí nghiệm $T$, ta có thể dùng phương pháp thống kê như sau: thực hiện lặp lại $N$ lần (độc lập) thí nghiệm $T$ và tính các tần xuất $p_x$ của biến cố $X$ nhận giá trị $x$. \n",
    "\n",
    "Khi $N$ đủ lớn, ta có $p_x$ ~= $P(X=x)$."
   ]
  },
  {
   "cell_type": "code",
   "execution_count": 99,
   "metadata": {},
   "outputs": [
    {
     "name": "stdout",
     "output_type": "stream",
     "text": [
      "0.4\n",
      "[0.07775999999999998, 0.2592, 0.3456, 0.23040000000000005, 0.07680000000000002, 0.010240000000000003]\n",
      "0.0753\n",
      "[0.07776 0.2592  0.3456  0.2304  0.0768  0.01024]\n"
     ]
    }
   ],
   "source": [
    "# Phân phối nhị thức (Binomial)\n",
    "# Bốc ngẫu nhiên 5 viên bi trong hộp gồm 4 bi Đỏ và 6 bi Đen. \n",
    "# Gọi X là số bi đỏ bốc được, tìm phân phối của X trong trường hợp bốc có hoàn lại.\n",
    "\n",
    "p = 4/(4+6)\n",
    "print(p)\n",
    "# Với X là số bi Đỏ bốc được trong n=5 lần bốc thì X~Binomial(n,p) = Binomial(5,0.4).\n",
    "# Do đó, xác suất để bốc được 0 <= k <= 5 bi Đỏ là: \n",
    "# P(X=k) =  C_n^k * p^k * (1-p)^(n-k)\n",
    "\n",
    "n = 5\n",
    "P_Xk = []\n",
    "for k in range(n+1):\n",
    "    P_Xk.append(nCk(n, k) * p**k * (1-p)**(n-k))\n",
    "print(P_Xk)\n",
    "\n",
    "# Thu vien numpy\n",
    "# https://docs.scipy.org/doc/numpy-1.15.0/reference/generated/numpy.random.binomial.html\n",
    "print(sum(np.random.binomial(n, p, 10000) == 0)/10000)\n",
    "\n",
    "# Thu vien scipy\n",
    "# https://docs.scipy.org/doc/scipy/reference/generated/scipy.stats.binom.html\n",
    "from scipy.stats import binom\n",
    "print(binom.pmf(k = range(n+1), n=n, p=p))"
   ]
  },
  {
   "cell_type": "code",
   "execution_count": 78,
   "metadata": {},
   "outputs": [
    {
     "data": {
      "text/plain": [
       "array([0.0768, 0.2596, 0.3483, 0.2303, 0.0753, 0.0097])"
      ]
     },
     "execution_count": 78,
     "metadata": {},
     "output_type": "execute_result"
    }
   ],
   "source": [
    "# Mô phỏng\n",
    "def pf(N, n):\n",
    "    box = 4*['R'] + 6*['B']\n",
    "    result = np.array([0]* (n+1))\n",
    "    for i in range(N):\n",
    "        samples = np.random.choice(box, size=n, replace=True)\n",
    "        result[sum(samples=='R')] += 1\n",
    "    return (result/N)\n",
    "\n",
    "N, n = 10000, 5\n",
    "pf(N, n)"
   ]
  },
  {
   "cell_type": "code",
   "execution_count": 117,
   "metadata": {},
   "outputs": [
    {
     "name": "stdout",
     "output_type": "stream",
     "text": [
      "[0.023809523809523808, 0.23809523809523808, 0.47619047619047616, 0.23809523809523808, 0.023809523809523808, 0.0]\n"
     ]
    },
    {
     "data": {
      "text/plain": [
       "(0, 5)"
      ]
     },
     "execution_count": 117,
     "metadata": {},
     "output_type": "execute_result"
    },
    {
     "data": {
      "image/png": "[encoded data removed]",
      "text/plain": [
       "<Figure size 432x288 with 1 Axes>"
      ]
     },
     "metadata": {
      "needs_background": "light"
     },
     "output_type": "display_data"
    }
   ],
   "source": [
    "# Phân phối Siêu bội\n",
    "# Tương tự bài trên nhưng trong trường hợp bốc không hoàn lại.\n",
    "\n",
    "# Hộp có R=4 viên bi Đỏ và B=6 viên bi Đen. \n",
    "# Bốc không hoàn lại n=5 viên. \n",
    "# Gọi X là số bi Đỏ bốc được thì X~Hypergeometric(n,A,B).\n",
    "# Do đó, xác suất để bốc được 0<= k<= 5 bi Đỏ là:\n",
    "# P(X=k) = C_R^k * C_B^{n-k} / C_{R+B}^n\n",
    "\n",
    "n, R, B = 5, 4, 6\n",
    "P_Xk = []\n",
    "for k in range(n+1):\n",
    "    P_Xk.append((nCk(R, k) * nCk(B, n-k))/nCk(R+B, n))\n",
    "print(P_Xk)\n",
    "\n",
    "# Thu vien numpy\n",
    "# https://docs.scipy.org/doc/numpy-1.15.4/reference/generated/numpy.random.hypergeometric.html\n",
    "import matplotlib.pyplot as plt\n",
    "plt.hist(np.random.hypergeometric(R, B, n, 100000))\n",
    "plt.xlim([0, 5])"
   ]
  },
  {
   "cell_type": "code",
   "execution_count": 82,
   "metadata": {},
   "outputs": [
    {
     "data": {
      "text/plain": [
       "array([0.0246, 0.239 , 0.4733, 0.2397, 0.0234, 0.    ])"
      ]
     },
     "execution_count": 82,
     "metadata": {},
     "output_type": "execute_result"
    }
   ],
   "source": [
    "# Mô phỏng\n",
    "def pf(N, n):\n",
    "    box = 4*['R'] + 6*['B']\n",
    "    result = np.array([0]* (n+1))\n",
    "    for i in range(N):\n",
    "        samples = np.random.choice(box, size=n, replace=False)\n",
    "        result[sum(samples=='R')] += 1\n",
    "    return (result/N)\n",
    "\n",
    "N, n = 10000, 5\n",
    "pf(N, n)"
   ]
  },
  {
   "cell_type": "markdown",
   "metadata": {},
   "source": [
    "#### 2. Phân phối xác suất liên tục\n",
    " Hàm mật độ xác suất (probability density function, pdf) xác định hoàn toàn phân phối của b.n.n liên tục. \n",
    " \n",
    " Để \"tính gần đúng” hàm mật độ xác suất $f_X$ của một b.n.n liên tục $X$ liên quan đến thí nghiệm $T$, ta có thể dùng phương pháp thống kê như sau: thực hiện lặp lại $N$ lần (độc lập) thí nghiệm $T$ và dựng histogram $h_X$ của các giá trị mà $X$ nhận. \n",
    " \n",
    " Khi $N$ đủ lớn, ta có $h_X$ ~= $f_X$"
   ]
  },
  {
   "cell_type": "code",
   "execution_count": 147,
   "metadata": {},
   "outputs": [
    {
     "data": {
      "text/plain": [
       "(array([ 9965., 10009.,  9968., 10060.,  9955., 10124.,  9991.,  9922.,\n",
       "        10064.,  9942.]),\n",
       " array([0.50000672, 0.55000597, 0.60000522, 0.65000447, 0.70000373,\n",
       "        0.75000298, 0.80000223, 0.85000148, 0.90000073, 0.94999999,\n",
       "        0.99999924]),\n",
       " <a list of 10 Patch objects>)"
      ]
     },
     "execution_count": 147,
     "metadata": {},
     "output_type": "execute_result"
    },
    {
     "data": {
      "image/png": "[encoded data removed]",
      "text/plain": [
       "<Figure size 288x216 with 1 Axes>"
      ]
     },
     "metadata": {
      "needs_background": "light"
     },
     "output_type": "display_data"
    },
    {
     "data": {
      "image/png": "[encoded data removed]",
      "text/plain": [
       "<Figure size 288x216 with 1 Axes>"
      ]
     },
     "metadata": {
      "needs_background": "light"
     },
     "output_type": "display_data"
    }
   ],
   "source": [
    "# Phân phối đều\n",
    "# Chọn ngẫu nhiên một điểm trên một thanh có chiều dài 1 đơn vị,\n",
    "# cắt tại điểm đó thành hai đoạn và giữ lại đoạn dài hơn. \n",
    "# Tìm phân phối của chiều dài đoạn giữ lại.\n",
    "\n",
    "def simulation(N):\n",
    "    return [max(i, 1-i) for i in np.random.uniform(0,1, size = N)]\n",
    "\n",
    "import matplotlib.pyplot as plt\n",
    "# ngẫu nhiên một điểm trên một thanh có chiều dài 1 đơn vị\n",
    "plt.figure(figsize=(4,3))\n",
    "plt.hist(np.random.uniform(0,1,100000))\n",
    "\n",
    "# cắt tại điểm đó thành hai đoạn và giữ lại đoạn dài hơn\n",
    "plt.figure(figsize=(4,3))\n",
    "plt.hist(simulation(100000))\n",
    "\n",
    "# => Từ histogram ta kiểm chứng là Y ~= Uniform(0.5,1)."
   ]
  },
  {
   "cell_type": "code",
   "execution_count": 186,
   "metadata": {},
   "outputs": [
    {
     "name": "stdout",
     "output_type": "stream",
     "text": [
      "pdf(160) = 7.26683020629853e-07\n",
      "pdf(< 120) = 0.9380320971636288\n",
      "pdf(> 120) = 0.061967902836371214\n",
      "10 random people: [ 82.83058738  91.16696485 102.36785791  93.83531898  80.41087204\n",
      "  97.73360824 126.39080133 103.42315169 112.5629997  100.65932639]\n"
     ]
    },
    {
     "data": {
      "image/png": "[encoded data removed]",
      "text/plain": [
       "<Figure size 432x288 with 1 Axes>"
      ]
     },
     "metadata": {
      "needs_background": "light"
     },
     "output_type": "display_data"
    }
   ],
   "source": [
    "# Trong một quần thể, chúng ta biết áp suất máu trung bình là 100 mmHg và độ lệch chuẩn là 13 mmHg. \n",
    "# Cho biết có bao nhiêu người trong quần thể này có áp suất máu bằng hoặc cao hơn 120 mmHg?\n",
    "\n",
    "# https://docs.scipy.org/doc/scipy/reference/generated/scipy.stats.norm.html\n",
    "from scipy.stats import norm\n",
    "\n",
    "mu, sd = 100, 13 # mean and standard deviation\n",
    "d = norm.rvs(loc=100, scale=13, size=10000)\n",
    "plt.hist(d)\n",
    "\n",
    "# xác xuất một người có áp xuất máu 160\n",
    "print('pdf(160) =', norm.pdf(160, loc=100, scale = 13))\n",
    "\n",
    "print('pdf(< 120) =', norm.cdf(120, loc=100, scale = 13))\n",
    "print('pdf(> 120) =', 1 - norm.cdf(120, loc=100, scale = 13))\n",
    "print('10 random people:', norm.rvs(loc=100, scale=13, size=10))"
   ]
  },
  {
   "cell_type": "markdown",
   "metadata": {},
   "source": []
  }
 ],
 "metadata": {
  "kernelspec": {
   "display_name": "Python 3",
   "language": "python",
   "name": "python3"
  },
  "language_info": {
   "codemirror_mode": {
    "name": "ipython",
    "version": 3
   },
   "file_extension": ".py",
   "mimetype": "text/x-python",
   "name": "python",
   "nbconvert_exporter": "python",
   "pygments_lexer": "ipython3",
   "version": "3.7.4"
  }
 },
 "nbformat": 4,
 "nbformat_minor": 4
}

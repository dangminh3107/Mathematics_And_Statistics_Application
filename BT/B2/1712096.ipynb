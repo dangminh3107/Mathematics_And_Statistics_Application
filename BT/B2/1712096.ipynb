{
 "cells": [
  {
   "cell_type": "markdown",
   "metadata": {},
   "source": [
    "# BÀI TẬP TUẦN 2\n",
    "## HỌ VÀ TÊN: ĐẶNG HỒNG MINH\n",
    "## MSSV: 1712096"
   ]
  },
  {
   "cell_type": "markdown",
   "metadata": {},
   "source": [
    "### Bài 1"
   ]
  },
  {
   "cell_type": "markdown",
   "metadata": {},
   "source": [
    "- 6 mặt xúc xắc lần lượt là 1,2,3,4,5,6\n",
    "- Mô phỏng:"
   ]
  },
  {
   "cell_type": "code",
   "execution_count": 3,
   "metadata": {},
   "outputs": [],
   "source": [
    "import numpy as np\n",
    "import random"
   ]
  },
  {
   "cell_type": "code",
   "execution_count": 7,
   "metadata": {},
   "outputs": [
    {
     "name": "stdout",
     "output_type": "stream",
     "text": [
      "Số tiền trung bình nếu đặt 3 tờ tiền vào 1 hình:                            3017.4\n",
      "Số tiền trung bình nếu đặt 3 tờ tiền vào 3 hình khác nhau:                  2992.4\n",
      "Số tiền trung bình nếu đặt 3 tờ tiền vào 2 hình giống nhau, 1 hình khác:    2980.6\n"
     ]
    }
   ],
   "source": [
    "def Play(choose_the_number, iterator):\n",
    "    money = 0\n",
    "    value = [1,2,3,4,5,6]\n",
    "    for i in range(iterator):\n",
    "        roll = []\n",
    "        choose = []\n",
    "        roll.append(random.randint(1,6))\n",
    "        roll.append(random.randint(1,6))\n",
    "        roll.append(random.randint(1,6))\n",
    "        if choose_the_number == 1:\n",
    "            choose = [random.randint(1,6)]*3\n",
    "        elif choose_the_number == 2:\n",
    "            choose.extend(np.random.choice(value, 2, replace = False))\n",
    "            choose.append(choose[1])\n",
    "        else:\n",
    "            choose.extend(np.random.choice(value, 3, replace = False))\n",
    "        \n",
    "        for j in choose:\n",
    "            for k in range(3):\n",
    "                money += (j == roll[k])*2000\n",
    "    return money/iterator\n",
    "\n",
    "print('Số tiền trung bình nếu đặt 3 tờ tiền vào 1 hình:                           ', Play(1,10000))\n",
    "print('Số tiền trung bình nếu đặt 3 tờ tiền vào 3 hình khác nhau:                 ', Play(3,10000))\n",
    "print('Số tiền trung bình nếu đặt 3 tờ tiền vào 2 hình giống nhau, 1 hình khác:   ', Play(2,10000))"
   ]
  },
  {
   "cell_type": "markdown",
   "metadata": {},
   "source": [
    "- Vậy: Ta có thể chọn bất kì 1 trong ba cách do số tiền trung bình ở cả ba lựa chọn trên đều cho kết quả giống nhau và hoà vốn"
   ]
  },
  {
   "cell_type": "markdown",
   "metadata": {},
   "source": [
    "### Bài 2"
   ]
  },
  {
   "cell_type": "markdown",
   "metadata": {},
   "source": [
    "#### a)"
   ]
  },
  {
   "cell_type": "markdown",
   "metadata": {},
   "source": [
    "- Mỗi lần đều bốc 1 viên bi nên ta có tồng số bi trong hộp là không gian mẫu ($\\Omega$)\n",
    "$$ |\\Omega| = 6 + 3 + 2 + 1 = 12 $$\n",
    "- Gọi $A_i$ là biến cố bốc được viên bi thứ $i$ (với i=1,2,3,4), ta có:\n",
    "$$ |A_1| = 6 $$\n",
    "$$ |A_2| = 3 $$\n",
    "$$ |A_3| = 2 $$\n",
    "$$ |A_4| = 1 $$\n",
    "- Xác suất để bốc được viên bi thứ $i$ sẽ lần lượt là:\n",
    "$$ P(A_1) = \\frac{|A_1|}{|\\Omega|} = \\frac{6}{12} $$\n",
    "$$ P(A_2) = \\frac{|A_2|}{|\\Omega|} = \\frac{3}{12} $$\n",
    "$$ P(A_3) = \\frac{|A_3|}{|\\Omega|} = \\frac{2}{12} $$\n",
    "$$ P(A_4) = \\frac{|A_4|}{|\\Omega|} = \\frac{1}{12} $$\n",
    "- Theo đề bài, số tiền trung bình nhận được là:\n",
    "$$ \\bar{X} = E(X) = \\sum_x xP(X = x) = 1*P(A_1)+2*P(A_2)+3*P(A_3)+4*P(A_4) = \\frac{1}{2}+\\frac{1}{2}+\\frac{1}{2}+\\frac{1}{3} = 1.8(3) $$\n",
    "- Vậy: Không nên chơi vì số tiền trung bình nhận lại ít hơn 2đ"
   ]
  },
  {
   "cell_type": "markdown",
   "metadata": {},
   "source": [
    "#### b)"
   ]
  },
  {
   "cell_type": "markdown",
   "metadata": {},
   "source": [
    "- Sau khi bốc trúng viên số 4 bỏ ra:\n",
    "$$ |\\Omega| = 11 $$\n",
    "- Gọi $A_i$ là biến cố bốc được viên bi thứ $i$ (với i=1,2,3), ta có:\n",
    "$$ P(A_1) = \\frac{|A_1|}{|\\Omega|} = \\frac{6}{11} $$\n",
    "$$ P(A_2) = \\frac{|A_2|}{|\\Omega|} = \\frac{3}{11} $$\n",
    "$$ P(A_3) = \\frac{|A_3|}{|\\Omega|} = \\frac{2}{11} $$\n",
    "- Theo đề bài, số tiền trung bình nhận được là:\n",
    "$$ \\bar{X} = E(X) = \\sum_x xP(X = x) = 1*P(A_1)+2*P(A_2)+3*P(A_3) = \\frac{6}{11}+\\frac{6}{11}+\\frac{6}{11} \\approx 1.63 $$\n",
    "- Vậy: Ta không đánh giá được nên chơi hay không vì kết quả trung bình nằm giữa việc lời và hoà vốn, nhưng do thực tế ta cũng không mất tiền nên nếu thích \"thử vận may\" thì có thể chơi"
   ]
  },
  {
   "cell_type": "markdown",
   "metadata": {},
   "source": [
    "### Bài 3"
   ]
  },
  {
   "cell_type": "markdown",
   "metadata": {},
   "source": [
    "- Gọi $t_1$, $t_2$ lần lượt là thời gian đến của Romeo và Juliet, ta có các điều kiện sau:\n",
    "    * $ |t_1 - t_2| \\le 20 $ thì thời gian chờ là $ |t_1 - t_2| $\n",
    "    * $ |t_1 - t_2| > 20 $ thì thời gian chờ là $20$\n",
    "- Ta mô phỏng quá trình trên:"
   ]
  },
  {
   "cell_type": "code",
   "execution_count": 13,
   "metadata": {},
   "outputs": [
    {
     "name": "stdout",
     "output_type": "stream",
     "text": [
      "Thời gian chờ trung bình:  14.1474\n"
     ]
    }
   ],
   "source": [
    "def AVGWaiting_time(iterator):\n",
    "    total_time = 0\n",
    "    for i in range(iterator):\n",
    "        t1 = random.randint(0, 60)\n",
    "        t2 = random.randint(0, 60)\n",
    "        if (abs(t1-t2) <= 20):\n",
    "            total_time += abs(t1-t2)\n",
    "        else:\n",
    "            total_time += 20\n",
    "    return total_time/iterator\n",
    "\n",
    "print('Thời gian chờ trung bình: ',AVGWaiting_time(10000))"
   ]
  }
 ],
 "metadata": {
  "kernelspec": {
   "display_name": "Python 3",
   "language": "python",
   "name": "python3"
  },
  "language_info": {
   "codemirror_mode": {
    "name": "ipython",
    "version": 3
   },
   "file_extension": ".py",
   "mimetype": "text/x-python",
   "name": "python",
   "nbconvert_exporter": "python",
   "pygments_lexer": "ipython3",
   "version": "3.7.4"
  }
 },
 "nbformat": 4,
 "nbformat_minor": 2
}

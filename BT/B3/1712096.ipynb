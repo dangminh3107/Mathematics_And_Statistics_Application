{
 "cells": [
  {
   "cell_type": "markdown",
   "metadata": {},
   "source": [
    "## BÀI TẬP CÁ NHÂN 3"
   ]
  },
  {
   "cell_type": "markdown",
   "metadata": {},
   "source": [
    "### Họ và tên: Đặng Hồng Minh\n",
    "### Mssv: 1712096"
   ]
  },
  {
   "cell_type": "markdown",
   "metadata": {},
   "source": [
    "#### Câu 1"
   ]
  },
  {
   "cell_type": "code",
   "execution_count": 3,
   "metadata": {},
   "outputs": [],
   "source": [
    "import numpy as np\n",
    "from fractions import Fraction as fr"
   ]
  },
  {
   "cell_type": "markdown",
   "metadata": {},
   "source": [
    "##### a)"
   ]
  },
  {
   "cell_type": "code",
   "execution_count": 6,
   "metadata": {},
   "outputs": [
    {
     "name": "stdout",
     "output_type": "stream",
     "text": [
      "[[Fraction(1, 2) Fraction(1, 6) Fraction(1, 3)]\n",
      " [0 Fraction(2, 3) Fraction(1, 3)]\n",
      " [Fraction(1, 2) 0 Fraction(1, 2)]]\n"
     ]
    }
   ],
   "source": [
    "P = np.matrix([[fr(1,2),fr(1,6),fr(1,3)],\n",
    "               [0,fr(2,3),fr(1,3)],\n",
    "               [fr(1,2),0,fr(1,2)]])\n",
    "print(P)\n",
    "alpha = [fr(1,4),fr(1,4),fr(1,2)]"
   ]
  },
  {
   "cell_type": "markdown",
   "metadata": {},
   "source": [
    "$Pr(X_0 = 0) = Pr(X_0 = 1) = \\frac{1}{4} \\Rightarrow Pr(X_0 = 2) = \\frac{1}{2}$"
   ]
  },
  {
   "cell_type": "markdown",
   "metadata": {},
   "source": [
    "##### a) $P(X_9 = 0|X_1 = 2, X_7 = 1, X_4 = 2)$"
   ]
  },
  {
   "cell_type": "markdown",
   "metadata": {},
   "source": [
    "Theo xích Markov ta có:\n",
    "    $$Pr(X_9 = 0|X_1 = 2,X_7 = 1, X_4 = 2) = P(X_9 = 0|X_7 = 1) = P^2[1][0]$$"
   ]
  },
  {
   "cell_type": "code",
   "execution_count": 12,
   "metadata": {},
   "outputs": [
    {
     "name": "stdout",
     "output_type": "stream",
     "text": [
      "1/6\n"
     ]
    }
   ],
   "source": [
    "Pa = P**2\n",
    "print(Pa[1,0])"
   ]
  },
  {
   "cell_type": "markdown",
   "metadata": {},
   "source": [
    "##### b) $P(X_0 = 2 | X_1 = 1)$"
   ]
  },
  {
   "cell_type": "markdown",
   "metadata": {},
   "source": [
    "Ta có:\n",
    "    $$P(X_0 = 2| P(X_1 = 1)) = \\frac{P(X_1 = 1|X_0 = 2)*P(X_0 = 2)}{P(X_0 = 1)}$$"
   ]
  },
  {
   "cell_type": "code",
   "execution_count": 11,
   "metadata": {},
   "outputs": [
    {
     "name": "stdout",
     "output_type": "stream",
     "text": [
      "0\n"
     ]
    }
   ],
   "source": [
    "Pb = P[2,1]*alpha[2]/alpha[1]\n",
    "print(Pb)"
   ]
  },
  {
   "cell_type": "markdown",
   "metadata": {},
   "source": [
    "##### c) $P(X_1 = X_3 = 2)$"
   ]
  },
  {
   "cell_type": "code",
   "execution_count": 13,
   "metadata": {},
   "outputs": [
    {
     "name": "stdout",
     "output_type": "stream",
     "text": [
      "5/12\n"
     ]
    }
   ],
   "source": [
    "Pc = (P ** 2)[2,2]\n",
    "print(Pc)"
   ]
  },
  {
   "cell_type": "markdown",
   "metadata": {},
   "source": [
    "##### d) $E(X_3)$"
   ]
  },
  {
   "cell_type": "code",
   "execution_count": 15,
   "metadata": {},
   "outputs": [
    {
     "name": "stdout",
     "output_type": "stream",
     "text": [
      "[[Fraction(115, 288) Fraction(173, 864) Fraction(173, 432)]]\n",
      "865/2592\n"
     ]
    }
   ],
   "source": [
    "def meanP3(mat, al):\n",
    "    P3 = al*mat**3\n",
    "    count = 0\n",
    "    print(P3)\n",
    "    for i in range(3):\n",
    "        count += i*P3[0,i]\n",
    "    return count/3\n",
    "\n",
    "print(meanP3(P, alpha))"
   ]
  },
  {
   "cell_type": "markdown",
   "metadata": {},
   "source": [
    "#### Câu 2"
   ]
  },
  {
   "cell_type": "markdown",
   "metadata": {},
   "source": [
    "Do ma trận P là xích Markov nên với mợi n, ta có: $$P(X_n|X_{n-1}) = P(X_1|P(X_0))$$\n",
    "Ta có $$P(X_n | X_{n-2}) = \\sum_i^X P(X_n | X_n-1 = i)*P(X_{n-1} = i|X_{n-2})$$$$= \\sum_i^X P(X_2 | X_1 = i)*P(X_1 = i|X_0) = P(X_2|X_0) $$\n",
    "\n",
    "$$=> P(X_n|X_{n-2}) = P(X_2|X_0)$$\n",
    "\n",
    "tương tự, ta chứng minh được $$P(X_n|X_{n-3}) = P(X_3|X_0) \\text{ với mọi n hay } P(Y_n|Y_{n-1}) = P(Y_1|Y_0)$$\n",
    "Vậy ${(Y_0, Y_1, ...)}$ là xích Markov với ma trân chuyển là $P^3$"
   ]
  },
  {
   "cell_type": "markdown",
   "metadata": {},
   "source": [
    "#### Câu 3"
   ]
  },
  {
   "cell_type": "markdown",
   "metadata": {},
   "source": [
    "Gọi trạng thái sau i lần bốc là $X_i$ với $X_0$ là trạng thái đầu tiên ứng với $(\\text{đỏ, đỏ})$\n",
    "\n",
    "Ta có $X_i$ = {(đỏ, đỏ), (đỏ, đen), (đen, đen)} = $A$.\n",
    "Ta nhận thấy, đến lần bốc thứ i, khi $X_{i-1}$ nhận 1 giá trị trong tập $A$,  ta có xác suất để $X_i$ nhận được giá trị ngẫu nhiên trong tập $A$ là cố định.\n",
    "\n",
    "Mô phỏng, gọi (đỏ đỏ) = 0, (đỏ đen) = 1, (đen đen) = 2.\n",
    "Ta có bảng phân phối xác suất 9 trường hợp sau:\n",
    "\n",
    "|   |  0 |  1 | 2  |\n",
    "|---|---|---|---|\n",
    "|  0 |  0.7 | 0.3  | 0  |\n",
    "|  1 |  0.15 | 0.7  | 0.15  |\n",
    "|  2 |  0 | 0.3  |  0.7 |\n",
    "\n",
    "Gọi $P$ là ma trận trên, theo tính chất $P(X_n|X_{n-1})$ luôn bằng giá trị trong bảng ma trận trên nên ta nói dãy $X$ là dãy Markov với ma trận chuyển $P$\n",
    "\n",
    "Xác suất bốc được bi đỏ ở lần thứ 5 là:"
   ]
  },
  {
   "cell_type": "code",
   "execution_count": 18,
   "metadata": {},
   "outputs": [
    {
     "name": "stdout",
     "output_type": "stream",
     "text": [
      "Xác suất bốc được bi đỏ ở lần bốc thứ 5:  0.6200499999999999\n"
     ]
    }
   ],
   "source": [
    "P = np.matrix([[0.7,0.3,0],[0.15,0.7,0.15],[0,0.3,0.7]])\n",
    "P3 = P**4\n",
    "\n",
    "alpha = [1,0,0]\n",
    "Px = alpha*P3\n",
    "\n",
    "beta = [1,0.5,0]\n",
    "p = Px[0,0]*beta[0]+Px[0,1]*beta[1]+Px[0,2]*beta[2]\n",
    "print(\"Xác suất bốc được bi đỏ ở lần bốc thứ 5: \", p)"
   ]
  }
 ],
 "metadata": {
  "kernelspec": {
   "display_name": "Python 3",
   "language": "python",
   "name": "python3"
  },
  "language_info": {
   "codemirror_mode": {
    "name": "ipython",
    "version": 3
   },
   "file_extension": ".py",
   "mimetype": "text/x-python",
   "name": "python",
   "nbconvert_exporter": "python",
   "pygments_lexer": "ipython3",
   "version": "3.7.4"
  }
 },
 "nbformat": 4,
 "nbformat_minor": 2
}
